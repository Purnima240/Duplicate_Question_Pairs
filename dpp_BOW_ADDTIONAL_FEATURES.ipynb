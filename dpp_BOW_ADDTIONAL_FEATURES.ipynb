{
 "cells": [
  {
   "cell_type": "code",
   "execution_count": 4,
   "id": "e2496d1a-b659-43b1-94c4-410fd66162d0",
   "metadata": {},
   "outputs": [],
   "source": [
    "import pandas as pd \n",
    "df = pd.read_csv('Quora.csv')"
   ]
  },
  {
   "cell_type": "code",
   "execution_count": 5,
   "id": "4aedfa67-1952-46b4-8a90-0be6e7e33556",
   "metadata": {},
   "outputs": [
    {
     "data": {
      "text/html": [
       "<div>\n",
       "<style scoped>\n",
       "    .dataframe tbody tr th:only-of-type {\n",
       "        vertical-align: middle;\n",
       "    }\n",
       "\n",
       "    .dataframe tbody tr th {\n",
       "        vertical-align: top;\n",
       "    }\n",
       "\n",
       "    .dataframe thead th {\n",
       "        text-align: right;\n",
       "    }\n",
       "</style>\n",
       "<table border=\"1\" class=\"dataframe\">\n",
       "  <thead>\n",
       "    <tr style=\"text-align: right;\">\n",
       "      <th></th>\n",
       "      <th>id</th>\n",
       "      <th>qid1</th>\n",
       "      <th>qid2</th>\n",
       "      <th>question1</th>\n",
       "      <th>question2</th>\n",
       "      <th>is_duplicate</th>\n",
       "    </tr>\n",
       "  </thead>\n",
       "  <tbody>\n",
       "    <tr>\n",
       "      <th>0</th>\n",
       "      <td>0</td>\n",
       "      <td>1</td>\n",
       "      <td>2</td>\n",
       "      <td>What is the step by step guide to invest in sh...</td>\n",
       "      <td>What is the step by step guide to invest in sh...</td>\n",
       "      <td>0</td>\n",
       "    </tr>\n",
       "    <tr>\n",
       "      <th>1</th>\n",
       "      <td>1</td>\n",
       "      <td>3</td>\n",
       "      <td>4</td>\n",
       "      <td>What is the story of Kohinoor (Koh-i-Noor) Dia...</td>\n",
       "      <td>What would happen if the Indian government sto...</td>\n",
       "      <td>0</td>\n",
       "    </tr>\n",
       "    <tr>\n",
       "      <th>2</th>\n",
       "      <td>2</td>\n",
       "      <td>5</td>\n",
       "      <td>6</td>\n",
       "      <td>How can I increase the speed of my internet co...</td>\n",
       "      <td>How can Internet speed be increased by hacking...</td>\n",
       "      <td>0</td>\n",
       "    </tr>\n",
       "    <tr>\n",
       "      <th>3</th>\n",
       "      <td>3</td>\n",
       "      <td>7</td>\n",
       "      <td>8</td>\n",
       "      <td>Why am I mentally very lonely? How can I solve...</td>\n",
       "      <td>Find the remainder when [math]23^{24}[/math] i...</td>\n",
       "      <td>0</td>\n",
       "    </tr>\n",
       "    <tr>\n",
       "      <th>4</th>\n",
       "      <td>4</td>\n",
       "      <td>9</td>\n",
       "      <td>10</td>\n",
       "      <td>Which one dissolve in water quikly sugar, salt...</td>\n",
       "      <td>Which fish would survive in salt water?</td>\n",
       "      <td>0</td>\n",
       "    </tr>\n",
       "  </tbody>\n",
       "</table>\n",
       "</div>"
      ],
      "text/plain": [
       "   id  qid1  qid2                                          question1  \\\n",
       "0   0     1     2  What is the step by step guide to invest in sh...   \n",
       "1   1     3     4  What is the story of Kohinoor (Koh-i-Noor) Dia...   \n",
       "2   2     5     6  How can I increase the speed of my internet co...   \n",
       "3   3     7     8  Why am I mentally very lonely? How can I solve...   \n",
       "4   4     9    10  Which one dissolve in water quikly sugar, salt...   \n",
       "\n",
       "                                           question2  is_duplicate  \n",
       "0  What is the step by step guide to invest in sh...             0  \n",
       "1  What would happen if the Indian government sto...             0  \n",
       "2  How can Internet speed be increased by hacking...             0  \n",
       "3  Find the remainder when [math]23^{24}[/math] i...             0  \n",
       "4            Which fish would survive in salt water?             0  "
      ]
     },
     "execution_count": 5,
     "metadata": {},
     "output_type": "execute_result"
    }
   ],
   "source": [
    "df.head()"
   ]
  },
  {
   "cell_type": "code",
   "execution_count": 6,
   "id": "6a3ca70c-4a91-4ae0-984a-e4863ee760f1",
   "metadata": {},
   "outputs": [
    {
     "data": {
      "text/plain": [
       "(404351, 6)"
      ]
     },
     "execution_count": 6,
     "metadata": {},
     "output_type": "execute_result"
    }
   ],
   "source": [
    "df.shape"
   ]
  },
  {
   "cell_type": "code",
   "execution_count": 11,
   "id": "52b3dfa2-e5aa-40ab-9da8-b7b518ffad7d",
   "metadata": {},
   "outputs": [],
   "source": [
    "# random_State = 42 make the raandom no fixed even when we run the code multiple times\n",
    "new_df = df.sample(30000, random_state= 42)"
   ]
  },
  {
   "cell_type": "code",
   "execution_count": 10,
   "id": "eff848ce-8d71-44f3-846d-9de3ac1ddc8a",
   "metadata": {},
   "outputs": [
    {
     "data": {
      "text/plain": [
       "id              0\n",
       "qid1            0\n",
       "qid2            0\n",
       "question1       0\n",
       "question2       0\n",
       "is_duplicate    0\n",
       "dtype: int64"
      ]
     },
     "execution_count": 10,
     "metadata": {},
     "output_type": "execute_result"
    }
   ],
   "source": [
    "new_df.isnull().sum()"
   ]
  },
  {
   "cell_type": "code",
   "execution_count": 13,
   "id": "9ce99f08-2923-4132-a63b-0a32c00eeb5a",
   "metadata": {},
   "outputs": [
    {
     "data": {
      "text/html": [
       "<div>\n",
       "<style scoped>\n",
       "    .dataframe tbody tr th:only-of-type {\n",
       "        vertical-align: middle;\n",
       "    }\n",
       "\n",
       "    .dataframe tbody tr th {\n",
       "        vertical-align: top;\n",
       "    }\n",
       "\n",
       "    .dataframe thead th {\n",
       "        text-align: right;\n",
       "    }\n",
       "</style>\n",
       "<table border=\"1\" class=\"dataframe\">\n",
       "  <thead>\n",
       "    <tr style=\"text-align: right;\">\n",
       "      <th></th>\n",
       "      <th>id</th>\n",
       "      <th>qid1</th>\n",
       "      <th>qid2</th>\n",
       "      <th>question1</th>\n",
       "      <th>question2</th>\n",
       "      <th>is_duplicate</th>\n",
       "    </tr>\n",
       "  </thead>\n",
       "  <tbody>\n",
       "    <tr>\n",
       "      <th>120567</th>\n",
       "      <td>120567</td>\n",
       "      <td>238932</td>\n",
       "      <td>238933</td>\n",
       "      <td>How does the Boggart work?</td>\n",
       "      <td>What would the boggart of a boggart be?</td>\n",
       "      <td>0</td>\n",
       "    </tr>\n",
       "    <tr>\n",
       "      <th>324466</th>\n",
       "      <td>324466</td>\n",
       "      <td>636476</td>\n",
       "      <td>636477</td>\n",
       "      <td>What is difference between project manager and...</td>\n",
       "      <td>What are the differences between project manag...</td>\n",
       "      <td>0</td>\n",
       "    </tr>\n",
       "    <tr>\n",
       "      <th>398558</th>\n",
       "      <td>398558</td>\n",
       "      <td>778728</td>\n",
       "      <td>778729</td>\n",
       "      <td>What hotel in Jabalpur would be safe for unmar...</td>\n",
       "      <td>What hotel in Allahabad would be safe for unma...</td>\n",
       "      <td>0</td>\n",
       "    </tr>\n",
       "    <tr>\n",
       "      <th>339914</th>\n",
       "      <td>339914</td>\n",
       "      <td>666314</td>\n",
       "      <td>666315</td>\n",
       "      <td>What is stronger - Super Saiyan 4 or Super Sai...</td>\n",
       "      <td>How does Gohan turn into Super Saiyan 2?</td>\n",
       "      <td>0</td>\n",
       "    </tr>\n",
       "    <tr>\n",
       "      <th>185732</th>\n",
       "      <td>185732</td>\n",
       "      <td>366764</td>\n",
       "      <td>366765</td>\n",
       "      <td>How do I fill in Address Line 1 and Address Li...</td>\n",
       "      <td>How do I register desired web address?</td>\n",
       "      <td>0</td>\n",
       "    </tr>\n",
       "  </tbody>\n",
       "</table>\n",
       "</div>"
      ],
      "text/plain": [
       "            id    qid1    qid2  \\\n",
       "120567  120567  238932  238933   \n",
       "324466  324466  636476  636477   \n",
       "398558  398558  778728  778729   \n",
       "339914  339914  666314  666315   \n",
       "185732  185732  366764  366765   \n",
       "\n",
       "                                                question1  \\\n",
       "120567                         How does the Boggart work?   \n",
       "324466  What is difference between project manager and...   \n",
       "398558  What hotel in Jabalpur would be safe for unmar...   \n",
       "339914  What is stronger - Super Saiyan 4 or Super Sai...   \n",
       "185732  How do I fill in Address Line 1 and Address Li...   \n",
       "\n",
       "                                                question2  is_duplicate  \n",
       "120567            What would the boggart of a boggart be?             0  \n",
       "324466  What are the differences between project manag...             0  \n",
       "398558  What hotel in Allahabad would be safe for unma...             0  \n",
       "339914           How does Gohan turn into Super Saiyan 2?             0  \n",
       "185732             How do I register desired web address?             0  "
      ]
     },
     "execution_count": 13,
     "metadata": {},
     "output_type": "execute_result"
    }
   ],
   "source": [
    "new_df.head()"
   ]
  },
  {
   "cell_type": "code",
   "execution_count": 16,
   "id": "52f60616-c21d-4c9d-9dbc-0361144f4bc2",
   "metadata": {},
   "outputs": [],
   "source": [
    "no , yes = new_df['is_duplicate'].value_counts()"
   ]
  },
  {
   "cell_type": "code",
   "execution_count": 17,
   "id": "68ab13e3-2e24-4338-b765-b0a0e7bb5e7d",
   "metadata": {},
   "outputs": [
    {
     "name": "stdout",
     "output_type": "stream",
     "text": [
      "18914\n",
      "11086\n"
     ]
    }
   ],
   "source": [
    "print(no)\n",
    "print(yes)\n"
   ]
  },
  {
   "cell_type": "code",
   "execution_count": 18,
   "id": "09cc2121-746c-4dc3-a63e-1ffbca5da56e",
   "metadata": {},
   "outputs": [],
   "source": [
    "## Feature Engineerring "
   ]
  },
  {
   "cell_type": "code",
   "execution_count": 19,
   "id": "e6f60609-d1cb-4025-acca-8953a86fccf4",
   "metadata": {},
   "outputs": [],
   "source": [
    "new_df['q1_len']= new_df['question1'].str.len()\n",
    "new_df['q2_len']= new_df['question2'].str.len()"
   ]
  },
  {
   "cell_type": "code",
   "execution_count": 21,
   "id": "40e830ca-ae61-49de-a305-783d8cf4b67a",
   "metadata": {},
   "outputs": [
    {
     "data": {
      "text/html": [
       "<div>\n",
       "<style scoped>\n",
       "    .dataframe tbody tr th:only-of-type {\n",
       "        vertical-align: middle;\n",
       "    }\n",
       "\n",
       "    .dataframe tbody tr th {\n",
       "        vertical-align: top;\n",
       "    }\n",
       "\n",
       "    .dataframe thead th {\n",
       "        text-align: right;\n",
       "    }\n",
       "</style>\n",
       "<table border=\"1\" class=\"dataframe\">\n",
       "  <thead>\n",
       "    <tr style=\"text-align: right;\">\n",
       "      <th></th>\n",
       "      <th>id</th>\n",
       "      <th>qid1</th>\n",
       "      <th>qid2</th>\n",
       "      <th>question1</th>\n",
       "      <th>question2</th>\n",
       "      <th>is_duplicate</th>\n",
       "      <th>q1_len</th>\n",
       "      <th>q2_len</th>\n",
       "    </tr>\n",
       "  </thead>\n",
       "  <tbody>\n",
       "    <tr>\n",
       "      <th>120567</th>\n",
       "      <td>120567</td>\n",
       "      <td>238932</td>\n",
       "      <td>238933</td>\n",
       "      <td>How does the Boggart work?</td>\n",
       "      <td>What would the boggart of a boggart be?</td>\n",
       "      <td>0</td>\n",
       "      <td>26</td>\n",
       "      <td>39</td>\n",
       "    </tr>\n",
       "    <tr>\n",
       "      <th>324466</th>\n",
       "      <td>324466</td>\n",
       "      <td>636476</td>\n",
       "      <td>636477</td>\n",
       "      <td>What is difference between project manager and...</td>\n",
       "      <td>What are the differences between project manag...</td>\n",
       "      <td>0</td>\n",
       "      <td>63</td>\n",
       "      <td>76</td>\n",
       "    </tr>\n",
       "    <tr>\n",
       "      <th>398558</th>\n",
       "      <td>398558</td>\n",
       "      <td>778728</td>\n",
       "      <td>778729</td>\n",
       "      <td>What hotel in Jabalpur would be safe for unmar...</td>\n",
       "      <td>What hotel in Allahabad would be safe for unma...</td>\n",
       "      <td>0</td>\n",
       "      <td>124</td>\n",
       "      <td>125</td>\n",
       "    </tr>\n",
       "    <tr>\n",
       "      <th>339914</th>\n",
       "      <td>339914</td>\n",
       "      <td>666314</td>\n",
       "      <td>666315</td>\n",
       "      <td>What is stronger - Super Saiyan 4 or Super Sai...</td>\n",
       "      <td>How does Gohan turn into Super Saiyan 2?</td>\n",
       "      <td>0</td>\n",
       "      <td>54</td>\n",
       "      <td>40</td>\n",
       "    </tr>\n",
       "    <tr>\n",
       "      <th>185732</th>\n",
       "      <td>185732</td>\n",
       "      <td>366764</td>\n",
       "      <td>366765</td>\n",
       "      <td>How do I fill in Address Line 1 and Address Li...</td>\n",
       "      <td>How do I register desired web address?</td>\n",
       "      <td>0</td>\n",
       "      <td>51</td>\n",
       "      <td>38</td>\n",
       "    </tr>\n",
       "  </tbody>\n",
       "</table>\n",
       "</div>"
      ],
      "text/plain": [
       "            id    qid1    qid2  \\\n",
       "120567  120567  238932  238933   \n",
       "324466  324466  636476  636477   \n",
       "398558  398558  778728  778729   \n",
       "339914  339914  666314  666315   \n",
       "185732  185732  366764  366765   \n",
       "\n",
       "                                                question1  \\\n",
       "120567                         How does the Boggart work?   \n",
       "324466  What is difference between project manager and...   \n",
       "398558  What hotel in Jabalpur would be safe for unmar...   \n",
       "339914  What is stronger - Super Saiyan 4 or Super Sai...   \n",
       "185732  How do I fill in Address Line 1 and Address Li...   \n",
       "\n",
       "                                                question2  is_duplicate  \\\n",
       "120567            What would the boggart of a boggart be?             0   \n",
       "324466  What are the differences between project manag...             0   \n",
       "398558  What hotel in Allahabad would be safe for unma...             0   \n",
       "339914           How does Gohan turn into Super Saiyan 2?             0   \n",
       "185732             How do I register desired web address?             0   \n",
       "\n",
       "        q1_len  q2_len  \n",
       "120567      26      39  \n",
       "324466      63      76  \n",
       "398558     124     125  \n",
       "339914      54      40  \n",
       "185732      51      38  "
      ]
     },
     "execution_count": 21,
     "metadata": {},
     "output_type": "execute_result"
    }
   ],
   "source": [
    "new_df.head()"
   ]
  },
  {
   "cell_type": "code",
   "execution_count": 22,
   "id": "b005e5bb-2f87-4885-917d-4f4228d93a24",
   "metadata": {},
   "outputs": [],
   "source": [
    "new_df['q1_num_words']= new_df['question1'].str.split().str.len()\n",
    "new_df['q2_num_words']= new_df['question2'].str.split().str.len()"
   ]
  },
  {
   "cell_type": "code",
   "execution_count": 23,
   "id": "ebb50bea-6db8-4a7d-93cc-d89852509c2d",
   "metadata": {},
   "outputs": [
    {
     "data": {
      "text/html": [
       "<div>\n",
       "<style scoped>\n",
       "    .dataframe tbody tr th:only-of-type {\n",
       "        vertical-align: middle;\n",
       "    }\n",
       "\n",
       "    .dataframe tbody tr th {\n",
       "        vertical-align: top;\n",
       "    }\n",
       "\n",
       "    .dataframe thead th {\n",
       "        text-align: right;\n",
       "    }\n",
       "</style>\n",
       "<table border=\"1\" class=\"dataframe\">\n",
       "  <thead>\n",
       "    <tr style=\"text-align: right;\">\n",
       "      <th></th>\n",
       "      <th>id</th>\n",
       "      <th>qid1</th>\n",
       "      <th>qid2</th>\n",
       "      <th>question1</th>\n",
       "      <th>question2</th>\n",
       "      <th>is_duplicate</th>\n",
       "      <th>q1_len</th>\n",
       "      <th>q2_len</th>\n",
       "      <th>q1_num_words</th>\n",
       "      <th>q2_num_words</th>\n",
       "    </tr>\n",
       "  </thead>\n",
       "  <tbody>\n",
       "    <tr>\n",
       "      <th>120567</th>\n",
       "      <td>120567</td>\n",
       "      <td>238932</td>\n",
       "      <td>238933</td>\n",
       "      <td>How does the Boggart work?</td>\n",
       "      <td>What would the boggart of a boggart be?</td>\n",
       "      <td>0</td>\n",
       "      <td>26</td>\n",
       "      <td>39</td>\n",
       "      <td>5</td>\n",
       "      <td>8</td>\n",
       "    </tr>\n",
       "    <tr>\n",
       "      <th>324466</th>\n",
       "      <td>324466</td>\n",
       "      <td>636476</td>\n",
       "      <td>636477</td>\n",
       "      <td>What is difference between project manager and...</td>\n",
       "      <td>What are the differences between project manag...</td>\n",
       "      <td>0</td>\n",
       "      <td>63</td>\n",
       "      <td>76</td>\n",
       "      <td>9</td>\n",
       "      <td>10</td>\n",
       "    </tr>\n",
       "    <tr>\n",
       "      <th>398558</th>\n",
       "      <td>398558</td>\n",
       "      <td>778728</td>\n",
       "      <td>778729</td>\n",
       "      <td>What hotel in Jabalpur would be safe for unmar...</td>\n",
       "      <td>What hotel in Allahabad would be safe for unma...</td>\n",
       "      <td>0</td>\n",
       "      <td>124</td>\n",
       "      <td>125</td>\n",
       "      <td>20</td>\n",
       "      <td>20</td>\n",
       "    </tr>\n",
       "    <tr>\n",
       "      <th>339914</th>\n",
       "      <td>339914</td>\n",
       "      <td>666314</td>\n",
       "      <td>666315</td>\n",
       "      <td>What is stronger - Super Saiyan 4 or Super Sai...</td>\n",
       "      <td>How does Gohan turn into Super Saiyan 2?</td>\n",
       "      <td>0</td>\n",
       "      <td>54</td>\n",
       "      <td>40</td>\n",
       "      <td>11</td>\n",
       "      <td>8</td>\n",
       "    </tr>\n",
       "    <tr>\n",
       "      <th>185732</th>\n",
       "      <td>185732</td>\n",
       "      <td>366764</td>\n",
       "      <td>366765</td>\n",
       "      <td>How do I fill in Address Line 1 and Address Li...</td>\n",
       "      <td>How do I register desired web address?</td>\n",
       "      <td>0</td>\n",
       "      <td>51</td>\n",
       "      <td>38</td>\n",
       "      <td>12</td>\n",
       "      <td>7</td>\n",
       "    </tr>\n",
       "  </tbody>\n",
       "</table>\n",
       "</div>"
      ],
      "text/plain": [
       "            id    qid1    qid2  \\\n",
       "120567  120567  238932  238933   \n",
       "324466  324466  636476  636477   \n",
       "398558  398558  778728  778729   \n",
       "339914  339914  666314  666315   \n",
       "185732  185732  366764  366765   \n",
       "\n",
       "                                                question1  \\\n",
       "120567                         How does the Boggart work?   \n",
       "324466  What is difference between project manager and...   \n",
       "398558  What hotel in Jabalpur would be safe for unmar...   \n",
       "339914  What is stronger - Super Saiyan 4 or Super Sai...   \n",
       "185732  How do I fill in Address Line 1 and Address Li...   \n",
       "\n",
       "                                                question2  is_duplicate  \\\n",
       "120567            What would the boggart of a boggart be?             0   \n",
       "324466  What are the differences between project manag...             0   \n",
       "398558  What hotel in Allahabad would be safe for unma...             0   \n",
       "339914           How does Gohan turn into Super Saiyan 2?             0   \n",
       "185732             How do I register desired web address?             0   \n",
       "\n",
       "        q1_len  q2_len  q1_num_words  q2_num_words  \n",
       "120567      26      39             5             8  \n",
       "324466      63      76             9            10  \n",
       "398558     124     125            20            20  \n",
       "339914      54      40            11             8  \n",
       "185732      51      38            12             7  "
      ]
     },
     "execution_count": 23,
     "metadata": {},
     "output_type": "execute_result"
    }
   ],
   "source": [
    "new_df.head()"
   ]
  },
  {
   "cell_type": "code",
   "execution_count": 32,
   "id": "245d4e21-893a-4bad-b916-c55ad30a804c",
   "metadata": {},
   "outputs": [],
   "source": [
    "def get_common_words(row):\n",
    "    set1 = set(str(row['question1']).lower().split())\n",
    "    set2 = set(str(row['question2']).lower().split())\n",
    "    return len(set1.intersection(set2))\n",
    "\n",
    "new_df['common_words'] = new_df.apply(get_common_words, axis=1)\n",
    "# set removes duplicate words"
   ]
  },
  {
   "cell_type": "code",
   "execution_count": 33,
   "id": "51f88bb3-62a9-4bc9-88ab-aefce7a47c14",
   "metadata": {},
   "outputs": [
    {
     "data": {
      "text/html": [
       "<div>\n",
       "<style scoped>\n",
       "    .dataframe tbody tr th:only-of-type {\n",
       "        vertical-align: middle;\n",
       "    }\n",
       "\n",
       "    .dataframe tbody tr th {\n",
       "        vertical-align: top;\n",
       "    }\n",
       "\n",
       "    .dataframe thead th {\n",
       "        text-align: right;\n",
       "    }\n",
       "</style>\n",
       "<table border=\"1\" class=\"dataframe\">\n",
       "  <thead>\n",
       "    <tr style=\"text-align: right;\">\n",
       "      <th></th>\n",
       "      <th>id</th>\n",
       "      <th>qid1</th>\n",
       "      <th>qid2</th>\n",
       "      <th>question1</th>\n",
       "      <th>question2</th>\n",
       "      <th>is_duplicate</th>\n",
       "      <th>q1_len</th>\n",
       "      <th>q2_len</th>\n",
       "      <th>q1_num_words</th>\n",
       "      <th>q2_num_words</th>\n",
       "      <th>common_words</th>\n",
       "    </tr>\n",
       "  </thead>\n",
       "  <tbody>\n",
       "    <tr>\n",
       "      <th>120567</th>\n",
       "      <td>120567</td>\n",
       "      <td>238932</td>\n",
       "      <td>238933</td>\n",
       "      <td>How does the Boggart work?</td>\n",
       "      <td>What would the boggart of a boggart be?</td>\n",
       "      <td>0</td>\n",
       "      <td>26</td>\n",
       "      <td>39</td>\n",
       "      <td>5</td>\n",
       "      <td>8</td>\n",
       "      <td>2</td>\n",
       "    </tr>\n",
       "    <tr>\n",
       "      <th>324466</th>\n",
       "      <td>324466</td>\n",
       "      <td>636476</td>\n",
       "      <td>636477</td>\n",
       "      <td>What is difference between project manager and...</td>\n",
       "      <td>What are the differences between project manag...</td>\n",
       "      <td>0</td>\n",
       "      <td>63</td>\n",
       "      <td>76</td>\n",
       "      <td>9</td>\n",
       "      <td>10</td>\n",
       "      <td>4</td>\n",
       "    </tr>\n",
       "    <tr>\n",
       "      <th>398558</th>\n",
       "      <td>398558</td>\n",
       "      <td>778728</td>\n",
       "      <td>778729</td>\n",
       "      <td>What hotel in Jabalpur would be safe for unmar...</td>\n",
       "      <td>What hotel in Allahabad would be safe for unma...</td>\n",
       "      <td>0</td>\n",
       "      <td>124</td>\n",
       "      <td>125</td>\n",
       "      <td>20</td>\n",
       "      <td>20</td>\n",
       "      <td>18</td>\n",
       "    </tr>\n",
       "    <tr>\n",
       "      <th>339914</th>\n",
       "      <td>339914</td>\n",
       "      <td>666314</td>\n",
       "      <td>666315</td>\n",
       "      <td>What is stronger - Super Saiyan 4 or Super Sai...</td>\n",
       "      <td>How does Gohan turn into Super Saiyan 2?</td>\n",
       "      <td>0</td>\n",
       "      <td>54</td>\n",
       "      <td>40</td>\n",
       "      <td>11</td>\n",
       "      <td>8</td>\n",
       "      <td>2</td>\n",
       "    </tr>\n",
       "    <tr>\n",
       "      <th>185732</th>\n",
       "      <td>185732</td>\n",
       "      <td>366764</td>\n",
       "      <td>366765</td>\n",
       "      <td>How do I fill in Address Line 1 and Address Li...</td>\n",
       "      <td>How do I register desired web address?</td>\n",
       "      <td>0</td>\n",
       "      <td>51</td>\n",
       "      <td>38</td>\n",
       "      <td>12</td>\n",
       "      <td>7</td>\n",
       "      <td>3</td>\n",
       "    </tr>\n",
       "  </tbody>\n",
       "</table>\n",
       "</div>"
      ],
      "text/plain": [
       "            id    qid1    qid2  \\\n",
       "120567  120567  238932  238933   \n",
       "324466  324466  636476  636477   \n",
       "398558  398558  778728  778729   \n",
       "339914  339914  666314  666315   \n",
       "185732  185732  366764  366765   \n",
       "\n",
       "                                                question1  \\\n",
       "120567                         How does the Boggart work?   \n",
       "324466  What is difference between project manager and...   \n",
       "398558  What hotel in Jabalpur would be safe for unmar...   \n",
       "339914  What is stronger - Super Saiyan 4 or Super Sai...   \n",
       "185732  How do I fill in Address Line 1 and Address Li...   \n",
       "\n",
       "                                                question2  is_duplicate  \\\n",
       "120567            What would the boggart of a boggart be?             0   \n",
       "324466  What are the differences between project manag...             0   \n",
       "398558  What hotel in Allahabad would be safe for unma...             0   \n",
       "339914           How does Gohan turn into Super Saiyan 2?             0   \n",
       "185732             How do I register desired web address?             0   \n",
       "\n",
       "        q1_len  q2_len  q1_num_words  q2_num_words  common_words  \n",
       "120567      26      39             5             8             2  \n",
       "324466      63      76             9            10             4  \n",
       "398558     124     125            20            20            18  \n",
       "339914      54      40            11             8             2  \n",
       "185732      51      38            12             7             3  "
      ]
     },
     "execution_count": 33,
     "metadata": {},
     "output_type": "execute_result"
    }
   ],
   "source": [
    "new_df.head()"
   ]
  },
  {
   "cell_type": "code",
   "execution_count": 46,
   "id": "5dc15f8e-34f5-4c8b-b483-d420215da7fb",
   "metadata": {},
   "outputs": [],
   "source": [
    "def unique_words(row):\n",
    "    w1 = set(map(lambda word: word.lower().strip(), row['question1'].split()))\n",
    "    w2 = set(map(lambda word: word.lower().strip(), row['question2'].split()))\n",
    "    return len(w1.union(w2))  # or len(w1 | w2)\n",
    "new_df['total_words'] = new_df.apply(unique_words, axis=1)\n"
   ]
  },
  {
   "cell_type": "code",
   "execution_count": 50,
   "id": "cfc75e3f-8144-4819-bcff-9ddb99ba12a4",
   "metadata": {},
   "outputs": [],
   "source": [
    "new_df.head()\n",
    "new_df.drop(columns=['total_word','unique_word_count'], inplace= True)"
   ]
  },
  {
   "cell_type": "code",
   "execution_count": 51,
   "id": "34ce6f03-e051-4e63-bd80-6b59b4affa09",
   "metadata": {},
   "outputs": [
    {
     "data": {
      "text/html": [
       "<div>\n",
       "<style scoped>\n",
       "    .dataframe tbody tr th:only-of-type {\n",
       "        vertical-align: middle;\n",
       "    }\n",
       "\n",
       "    .dataframe tbody tr th {\n",
       "        vertical-align: top;\n",
       "    }\n",
       "\n",
       "    .dataframe thead th {\n",
       "        text-align: right;\n",
       "    }\n",
       "</style>\n",
       "<table border=\"1\" class=\"dataframe\">\n",
       "  <thead>\n",
       "    <tr style=\"text-align: right;\">\n",
       "      <th></th>\n",
       "      <th>id</th>\n",
       "      <th>qid1</th>\n",
       "      <th>qid2</th>\n",
       "      <th>question1</th>\n",
       "      <th>question2</th>\n",
       "      <th>is_duplicate</th>\n",
       "      <th>q1_len</th>\n",
       "      <th>q2_len</th>\n",
       "      <th>q1_num_words</th>\n",
       "      <th>q2_num_words</th>\n",
       "      <th>common_words</th>\n",
       "      <th>total_words</th>\n",
       "    </tr>\n",
       "  </thead>\n",
       "  <tbody>\n",
       "    <tr>\n",
       "      <th>120567</th>\n",
       "      <td>120567</td>\n",
       "      <td>238932</td>\n",
       "      <td>238933</td>\n",
       "      <td>How does the Boggart work?</td>\n",
       "      <td>What would the boggart of a boggart be?</td>\n",
       "      <td>0</td>\n",
       "      <td>26</td>\n",
       "      <td>39</td>\n",
       "      <td>5</td>\n",
       "      <td>8</td>\n",
       "      <td>2</td>\n",
       "      <td>10</td>\n",
       "    </tr>\n",
       "    <tr>\n",
       "      <th>324466</th>\n",
       "      <td>324466</td>\n",
       "      <td>636476</td>\n",
       "      <td>636477</td>\n",
       "      <td>What is difference between project manager and...</td>\n",
       "      <td>What are the differences between project manag...</td>\n",
       "      <td>0</td>\n",
       "      <td>63</td>\n",
       "      <td>76</td>\n",
       "      <td>9</td>\n",
       "      <td>10</td>\n",
       "      <td>4</td>\n",
       "      <td>15</td>\n",
       "    </tr>\n",
       "    <tr>\n",
       "      <th>398558</th>\n",
       "      <td>398558</td>\n",
       "      <td>778728</td>\n",
       "      <td>778729</td>\n",
       "      <td>What hotel in Jabalpur would be safe for unmar...</td>\n",
       "      <td>What hotel in Allahabad would be safe for unma...</td>\n",
       "      <td>0</td>\n",
       "      <td>124</td>\n",
       "      <td>125</td>\n",
       "      <td>20</td>\n",
       "      <td>20</td>\n",
       "      <td>18</td>\n",
       "      <td>20</td>\n",
       "    </tr>\n",
       "    <tr>\n",
       "      <th>339914</th>\n",
       "      <td>339914</td>\n",
       "      <td>666314</td>\n",
       "      <td>666315</td>\n",
       "      <td>What is stronger - Super Saiyan 4 or Super Sai...</td>\n",
       "      <td>How does Gohan turn into Super Saiyan 2?</td>\n",
       "      <td>0</td>\n",
       "      <td>54</td>\n",
       "      <td>40</td>\n",
       "      <td>11</td>\n",
       "      <td>8</td>\n",
       "      <td>2</td>\n",
       "      <td>15</td>\n",
       "    </tr>\n",
       "    <tr>\n",
       "      <th>185732</th>\n",
       "      <td>185732</td>\n",
       "      <td>366764</td>\n",
       "      <td>366765</td>\n",
       "      <td>How do I fill in Address Line 1 and Address Li...</td>\n",
       "      <td>How do I register desired web address?</td>\n",
       "      <td>0</td>\n",
       "      <td>51</td>\n",
       "      <td>38</td>\n",
       "      <td>12</td>\n",
       "      <td>7</td>\n",
       "      <td>3</td>\n",
       "      <td>14</td>\n",
       "    </tr>\n",
       "  </tbody>\n",
       "</table>\n",
       "</div>"
      ],
      "text/plain": [
       "            id    qid1    qid2  \\\n",
       "120567  120567  238932  238933   \n",
       "324466  324466  636476  636477   \n",
       "398558  398558  778728  778729   \n",
       "339914  339914  666314  666315   \n",
       "185732  185732  366764  366765   \n",
       "\n",
       "                                                question1  \\\n",
       "120567                         How does the Boggart work?   \n",
       "324466  What is difference between project manager and...   \n",
       "398558  What hotel in Jabalpur would be safe for unmar...   \n",
       "339914  What is stronger - Super Saiyan 4 or Super Sai...   \n",
       "185732  How do I fill in Address Line 1 and Address Li...   \n",
       "\n",
       "                                                question2  is_duplicate  \\\n",
       "120567            What would the boggart of a boggart be?             0   \n",
       "324466  What are the differences between project manag...             0   \n",
       "398558  What hotel in Allahabad would be safe for unma...             0   \n",
       "339914           How does Gohan turn into Super Saiyan 2?             0   \n",
       "185732             How do I register desired web address?             0   \n",
       "\n",
       "        q1_len  q2_len  q1_num_words  q2_num_words  common_words  total_words  \n",
       "120567      26      39             5             8             2           10  \n",
       "324466      63      76             9            10             4           15  \n",
       "398558     124     125            20            20            18           20  \n",
       "339914      54      40            11             8             2           15  \n",
       "185732      51      38            12             7             3           14  "
      ]
     },
     "execution_count": 51,
     "metadata": {},
     "output_type": "execute_result"
    }
   ],
   "source": [
    "new_df.head()\n"
   ]
  },
  {
   "cell_type": "code",
   "execution_count": 52,
   "id": "79e1b0d4-2e8f-4367-bfbf-7bcfffd1e1ff",
   "metadata": {},
   "outputs": [],
   "source": [
    "new_df['word_share']= round((new_df['common_words'])/new_df['total_words'],2)"
   ]
  },
  {
   "cell_type": "code",
   "execution_count": 54,
   "id": "aa0655f2-b0d2-40c8-b4ec-95bcc8ce704b",
   "metadata": {},
   "outputs": [
    {
     "data": {
      "text/html": [
       "<div>\n",
       "<style scoped>\n",
       "    .dataframe tbody tr th:only-of-type {\n",
       "        vertical-align: middle;\n",
       "    }\n",
       "\n",
       "    .dataframe tbody tr th {\n",
       "        vertical-align: top;\n",
       "    }\n",
       "\n",
       "    .dataframe thead th {\n",
       "        text-align: right;\n",
       "    }\n",
       "</style>\n",
       "<table border=\"1\" class=\"dataframe\">\n",
       "  <thead>\n",
       "    <tr style=\"text-align: right;\">\n",
       "      <th></th>\n",
       "      <th>id</th>\n",
       "      <th>qid1</th>\n",
       "      <th>qid2</th>\n",
       "      <th>question1</th>\n",
       "      <th>question2</th>\n",
       "      <th>is_duplicate</th>\n",
       "      <th>q1_len</th>\n",
       "      <th>q2_len</th>\n",
       "      <th>q1_num_words</th>\n",
       "      <th>q2_num_words</th>\n",
       "      <th>common_words</th>\n",
       "      <th>total_words</th>\n",
       "      <th>word_share</th>\n",
       "    </tr>\n",
       "  </thead>\n",
       "  <tbody>\n",
       "    <tr>\n",
       "      <th>120567</th>\n",
       "      <td>120567</td>\n",
       "      <td>238932</td>\n",
       "      <td>238933</td>\n",
       "      <td>How does the Boggart work?</td>\n",
       "      <td>What would the boggart of a boggart be?</td>\n",
       "      <td>0</td>\n",
       "      <td>26</td>\n",
       "      <td>39</td>\n",
       "      <td>5</td>\n",
       "      <td>8</td>\n",
       "      <td>2</td>\n",
       "      <td>10</td>\n",
       "      <td>0.20</td>\n",
       "    </tr>\n",
       "    <tr>\n",
       "      <th>324466</th>\n",
       "      <td>324466</td>\n",
       "      <td>636476</td>\n",
       "      <td>636477</td>\n",
       "      <td>What is difference between project manager and...</td>\n",
       "      <td>What are the differences between project manag...</td>\n",
       "      <td>0</td>\n",
       "      <td>63</td>\n",
       "      <td>76</td>\n",
       "      <td>9</td>\n",
       "      <td>10</td>\n",
       "      <td>4</td>\n",
       "      <td>15</td>\n",
       "      <td>0.27</td>\n",
       "    </tr>\n",
       "    <tr>\n",
       "      <th>398558</th>\n",
       "      <td>398558</td>\n",
       "      <td>778728</td>\n",
       "      <td>778729</td>\n",
       "      <td>What hotel in Jabalpur would be safe for unmar...</td>\n",
       "      <td>What hotel in Allahabad would be safe for unma...</td>\n",
       "      <td>0</td>\n",
       "      <td>124</td>\n",
       "      <td>125</td>\n",
       "      <td>20</td>\n",
       "      <td>20</td>\n",
       "      <td>18</td>\n",
       "      <td>20</td>\n",
       "      <td>0.90</td>\n",
       "    </tr>\n",
       "    <tr>\n",
       "      <th>339914</th>\n",
       "      <td>339914</td>\n",
       "      <td>666314</td>\n",
       "      <td>666315</td>\n",
       "      <td>What is stronger - Super Saiyan 4 or Super Sai...</td>\n",
       "      <td>How does Gohan turn into Super Saiyan 2?</td>\n",
       "      <td>0</td>\n",
       "      <td>54</td>\n",
       "      <td>40</td>\n",
       "      <td>11</td>\n",
       "      <td>8</td>\n",
       "      <td>2</td>\n",
       "      <td>15</td>\n",
       "      <td>0.13</td>\n",
       "    </tr>\n",
       "    <tr>\n",
       "      <th>185732</th>\n",
       "      <td>185732</td>\n",
       "      <td>366764</td>\n",
       "      <td>366765</td>\n",
       "      <td>How do I fill in Address Line 1 and Address Li...</td>\n",
       "      <td>How do I register desired web address?</td>\n",
       "      <td>0</td>\n",
       "      <td>51</td>\n",
       "      <td>38</td>\n",
       "      <td>12</td>\n",
       "      <td>7</td>\n",
       "      <td>3</td>\n",
       "      <td>14</td>\n",
       "      <td>0.21</td>\n",
       "    </tr>\n",
       "  </tbody>\n",
       "</table>\n",
       "</div>"
      ],
      "text/plain": [
       "            id    qid1    qid2  \\\n",
       "120567  120567  238932  238933   \n",
       "324466  324466  636476  636477   \n",
       "398558  398558  778728  778729   \n",
       "339914  339914  666314  666315   \n",
       "185732  185732  366764  366765   \n",
       "\n",
       "                                                question1  \\\n",
       "120567                         How does the Boggart work?   \n",
       "324466  What is difference between project manager and...   \n",
       "398558  What hotel in Jabalpur would be safe for unmar...   \n",
       "339914  What is stronger - Super Saiyan 4 or Super Sai...   \n",
       "185732  How do I fill in Address Line 1 and Address Li...   \n",
       "\n",
       "                                                question2  is_duplicate  \\\n",
       "120567            What would the boggart of a boggart be?             0   \n",
       "324466  What are the differences between project manag...             0   \n",
       "398558  What hotel in Allahabad would be safe for unma...             0   \n",
       "339914           How does Gohan turn into Super Saiyan 2?             0   \n",
       "185732             How do I register desired web address?             0   \n",
       "\n",
       "        q1_len  q2_len  q1_num_words  q2_num_words  common_words  total_words  \\\n",
       "120567      26      39             5             8             2           10   \n",
       "324466      63      76             9            10             4           15   \n",
       "398558     124     125            20            20            18           20   \n",
       "339914      54      40            11             8             2           15   \n",
       "185732      51      38            12             7             3           14   \n",
       "\n",
       "        word_share  \n",
       "120567        0.20  \n",
       "324466        0.27  \n",
       "398558        0.90  \n",
       "339914        0.13  \n",
       "185732        0.21  "
      ]
     },
     "execution_count": 54,
     "metadata": {},
     "output_type": "execute_result"
    }
   ],
   "source": [
    "new_df.head()"
   ]
  },
  {
   "cell_type": "code",
   "execution_count": 55,
   "id": "38d8d72a-5eb1-413f-8184-fae01bd91c9a",
   "metadata": {},
   "outputs": [],
   "source": [
    "ques_df= new_df[['question1', 'question2']]"
   ]
  },
  {
   "cell_type": "code",
   "execution_count": 56,
   "id": "9db3c606-d7a1-49f6-b1ff-98b2f62a4bc4",
   "metadata": {},
   "outputs": [
    {
     "data": {
      "text/html": [
       "<div>\n",
       "<style scoped>\n",
       "    .dataframe tbody tr th:only-of-type {\n",
       "        vertical-align: middle;\n",
       "    }\n",
       "\n",
       "    .dataframe tbody tr th {\n",
       "        vertical-align: top;\n",
       "    }\n",
       "\n",
       "    .dataframe thead th {\n",
       "        text-align: right;\n",
       "    }\n",
       "</style>\n",
       "<table border=\"1\" class=\"dataframe\">\n",
       "  <thead>\n",
       "    <tr style=\"text-align: right;\">\n",
       "      <th></th>\n",
       "      <th>question1</th>\n",
       "      <th>question2</th>\n",
       "    </tr>\n",
       "  </thead>\n",
       "  <tbody>\n",
       "    <tr>\n",
       "      <th>120567</th>\n",
       "      <td>How does the Boggart work?</td>\n",
       "      <td>What would the boggart of a boggart be?</td>\n",
       "    </tr>\n",
       "    <tr>\n",
       "      <th>324466</th>\n",
       "      <td>What is difference between project manager and...</td>\n",
       "      <td>What are the differences between project manag...</td>\n",
       "    </tr>\n",
       "    <tr>\n",
       "      <th>398558</th>\n",
       "      <td>What hotel in Jabalpur would be safe for unmar...</td>\n",
       "      <td>What hotel in Allahabad would be safe for unma...</td>\n",
       "    </tr>\n",
       "    <tr>\n",
       "      <th>339914</th>\n",
       "      <td>What is stronger - Super Saiyan 4 or Super Sai...</td>\n",
       "      <td>How does Gohan turn into Super Saiyan 2?</td>\n",
       "    </tr>\n",
       "    <tr>\n",
       "      <th>185732</th>\n",
       "      <td>How do I fill in Address Line 1 and Address Li...</td>\n",
       "      <td>How do I register desired web address?</td>\n",
       "    </tr>\n",
       "  </tbody>\n",
       "</table>\n",
       "</div>"
      ],
      "text/plain": [
       "                                                question1  \\\n",
       "120567                         How does the Boggart work?   \n",
       "324466  What is difference between project manager and...   \n",
       "398558  What hotel in Jabalpur would be safe for unmar...   \n",
       "339914  What is stronger - Super Saiyan 4 or Super Sai...   \n",
       "185732  How do I fill in Address Line 1 and Address Li...   \n",
       "\n",
       "                                                question2  \n",
       "120567            What would the boggart of a boggart be?  \n",
       "324466  What are the differences between project manag...  \n",
       "398558  What hotel in Allahabad would be safe for unma...  \n",
       "339914           How does Gohan turn into Super Saiyan 2?  \n",
       "185732             How do I register desired web address?  "
      ]
     },
     "execution_count": 56,
     "metadata": {},
     "output_type": "execute_result"
    }
   ],
   "source": [
    "ques_df.head()"
   ]
  },
  {
   "cell_type": "code",
   "execution_count": 57,
   "id": "d5ff96bb-fff0-4f67-94b2-b38856e8e12a",
   "metadata": {},
   "outputs": [
    {
     "data": {
      "text/html": [
       "<div>\n",
       "<style scoped>\n",
       "    .dataframe tbody tr th:only-of-type {\n",
       "        vertical-align: middle;\n",
       "    }\n",
       "\n",
       "    .dataframe tbody tr th {\n",
       "        vertical-align: top;\n",
       "    }\n",
       "\n",
       "    .dataframe thead th {\n",
       "        text-align: right;\n",
       "    }\n",
       "</style>\n",
       "<table border=\"1\" class=\"dataframe\">\n",
       "  <thead>\n",
       "    <tr style=\"text-align: right;\">\n",
       "      <th></th>\n",
       "      <th>is_duplicate</th>\n",
       "      <th>q1_len</th>\n",
       "      <th>q2_len</th>\n",
       "      <th>q1_num_words</th>\n",
       "      <th>q2_num_words</th>\n",
       "      <th>common_words</th>\n",
       "      <th>total_words</th>\n",
       "      <th>word_share</th>\n",
       "    </tr>\n",
       "  </thead>\n",
       "  <tbody>\n",
       "    <tr>\n",
       "      <th>120567</th>\n",
       "      <td>0</td>\n",
       "      <td>26</td>\n",
       "      <td>39</td>\n",
       "      <td>5</td>\n",
       "      <td>8</td>\n",
       "      <td>2</td>\n",
       "      <td>10</td>\n",
       "      <td>0.20</td>\n",
       "    </tr>\n",
       "    <tr>\n",
       "      <th>324466</th>\n",
       "      <td>0</td>\n",
       "      <td>63</td>\n",
       "      <td>76</td>\n",
       "      <td>9</td>\n",
       "      <td>10</td>\n",
       "      <td>4</td>\n",
       "      <td>15</td>\n",
       "      <td>0.27</td>\n",
       "    </tr>\n",
       "    <tr>\n",
       "      <th>398558</th>\n",
       "      <td>0</td>\n",
       "      <td>124</td>\n",
       "      <td>125</td>\n",
       "      <td>20</td>\n",
       "      <td>20</td>\n",
       "      <td>18</td>\n",
       "      <td>20</td>\n",
       "      <td>0.90</td>\n",
       "    </tr>\n",
       "    <tr>\n",
       "      <th>339914</th>\n",
       "      <td>0</td>\n",
       "      <td>54</td>\n",
       "      <td>40</td>\n",
       "      <td>11</td>\n",
       "      <td>8</td>\n",
       "      <td>2</td>\n",
       "      <td>15</td>\n",
       "      <td>0.13</td>\n",
       "    </tr>\n",
       "    <tr>\n",
       "      <th>185732</th>\n",
       "      <td>0</td>\n",
       "      <td>51</td>\n",
       "      <td>38</td>\n",
       "      <td>12</td>\n",
       "      <td>7</td>\n",
       "      <td>3</td>\n",
       "      <td>14</td>\n",
       "      <td>0.21</td>\n",
       "    </tr>\n",
       "  </tbody>\n",
       "</table>\n",
       "</div>"
      ],
      "text/plain": [
       "        is_duplicate  q1_len  q2_len  q1_num_words  q2_num_words  \\\n",
       "120567             0      26      39             5             8   \n",
       "324466             0      63      76             9            10   \n",
       "398558             0     124     125            20            20   \n",
       "339914             0      54      40            11             8   \n",
       "185732             0      51      38            12             7   \n",
       "\n",
       "        common_words  total_words  word_share  \n",
       "120567             2           10        0.20  \n",
       "324466             4           15        0.27  \n",
       "398558            18           20        0.90  \n",
       "339914             2           15        0.13  \n",
       "185732             3           14        0.21  "
      ]
     },
     "execution_count": 57,
     "metadata": {},
     "output_type": "execute_result"
    }
   ],
   "source": [
    "final_df= new_df.drop(columns=['id','qid1', 'qid2', 'question1', 'question2'])\n",
    "final_df.head()"
   ]
  },
  {
   "cell_type": "code",
   "execution_count": 58,
   "id": "8c25f170-910f-4c47-a721-51c1b0ddcd48",
   "metadata": {},
   "outputs": [
    {
     "data": {
      "text/plain": [
       "(30000, 8)"
      ]
     },
     "execution_count": 58,
     "metadata": {},
     "output_type": "execute_result"
    }
   ],
   "source": [
    "final_df.shape\n"
   ]
  },
  {
   "cell_type": "code",
   "execution_count": 64,
   "id": "0350a039-9625-49f6-b31c-e71317ba1219",
   "metadata": {},
   "outputs": [],
   "source": [
    "from sklearn.feature_extraction.text import CountVectorizer\n",
    "cv = CountVectorizer(max_features=3000)"
   ]
  },
  {
   "cell_type": "code",
   "execution_count": 65,
   "id": "c9c57142-3834-40ee-a049-972ddabc8893",
   "metadata": {},
   "outputs": [],
   "source": [
    "que_1= cv.fit_transform(ques_df['question1'])\n",
    "que_2= cv.fit_transform(ques_df['question2'])"
   ]
  },
  {
   "cell_type": "code",
   "execution_count": 66,
   "id": "97dd5f29-19e0-430a-92c2-0b6d37ec0c35",
   "metadata": {},
   "outputs": [
    {
     "data": {
      "text/plain": [
       "(30000, 3000)"
      ]
     },
     "execution_count": 66,
     "metadata": {},
     "output_type": "execute_result"
    }
   ],
   "source": [
    "que_1.shape"
   ]
  },
  {
   "cell_type": "code",
   "execution_count": 78,
   "id": "4dafec0e-267d-45e0-ae3e-a1121df4fb37",
   "metadata": {},
   "outputs": [
    {
     "data": {
      "text/plain": [
       "(30000, 6000)"
      ]
     },
     "execution_count": 78,
     "metadata": {},
     "output_type": "execute_result"
    }
   ],
   "source": [
    "from scipy.sparse import hstack\n",
    "temp= hstack([que_1, que_2])\n",
    "temp.shape\n",
    "# but you need to work woth a datatframe"
   ]
  },
  {
   "cell_type": "code",
   "execution_count": 82,
   "id": "559e44ad-2f5e-440c-a0bb-272d2b64d071",
   "metadata": {},
   "outputs": [],
   "source": [
    "temp.shape\n",
    "temp_df = pd.DataFrame.sparse.from_spmatrix(temp, index=final_df.index)\n"
   ]
  },
  {
   "cell_type": "code",
   "execution_count": 85,
   "id": "215052eb-ba47-4bfb-9122-3a72628aed83",
   "metadata": {},
   "outputs": [
    {
     "data": {
      "text/plain": [
       "(30000, 6008)"
      ]
     },
     "execution_count": 85,
     "metadata": {},
     "output_type": "execute_result"
    }
   ],
   "source": [
    "final_combined = pd.concat([final_df, temp_df], axis=1)\n",
    "final_combined.shape"
   ]
  },
  {
   "cell_type": "code",
   "execution_count": 86,
   "id": "71dd5138-6da6-41c2-b10b-f88eeda6c18b",
   "metadata": {},
   "outputs": [
    {
     "data": {
      "text/plain": [
       "pandas.core.frame.DataFrame"
      ]
     },
     "execution_count": 86,
     "metadata": {},
     "output_type": "execute_result"
    }
   ],
   "source": [
    "type(final_combined)"
   ]
  },
  {
   "cell_type": "code",
   "execution_count": 87,
   "id": "e4a09552-193f-439a-ba7a-acf3369b6959",
   "metadata": {},
   "outputs": [
    {
     "data": {
      "text/html": [
       "<div>\n",
       "<style scoped>\n",
       "    .dataframe tbody tr th:only-of-type {\n",
       "        vertical-align: middle;\n",
       "    }\n",
       "\n",
       "    .dataframe tbody tr th {\n",
       "        vertical-align: top;\n",
       "    }\n",
       "\n",
       "    .dataframe thead th {\n",
       "        text-align: right;\n",
       "    }\n",
       "</style>\n",
       "<table border=\"1\" class=\"dataframe\">\n",
       "  <thead>\n",
       "    <tr style=\"text-align: right;\">\n",
       "      <th></th>\n",
       "      <th>is_duplicate</th>\n",
       "      <th>q1_len</th>\n",
       "      <th>q2_len</th>\n",
       "      <th>q1_num_words</th>\n",
       "      <th>q2_num_words</th>\n",
       "      <th>common_words</th>\n",
       "      <th>total_words</th>\n",
       "      <th>word_share</th>\n",
       "      <th>0</th>\n",
       "      <th>1</th>\n",
       "      <th>...</th>\n",
       "      <th>5990</th>\n",
       "      <th>5991</th>\n",
       "      <th>5992</th>\n",
       "      <th>5993</th>\n",
       "      <th>5994</th>\n",
       "      <th>5995</th>\n",
       "      <th>5996</th>\n",
       "      <th>5997</th>\n",
       "      <th>5998</th>\n",
       "      <th>5999</th>\n",
       "    </tr>\n",
       "  </thead>\n",
       "  <tbody>\n",
       "    <tr>\n",
       "      <th>120567</th>\n",
       "      <td>0</td>\n",
       "      <td>26</td>\n",
       "      <td>39</td>\n",
       "      <td>5</td>\n",
       "      <td>8</td>\n",
       "      <td>2</td>\n",
       "      <td>10</td>\n",
       "      <td>0.20</td>\n",
       "      <td>0</td>\n",
       "      <td>0</td>\n",
       "      <td>...</td>\n",
       "      <td>0</td>\n",
       "      <td>0</td>\n",
       "      <td>0</td>\n",
       "      <td>0</td>\n",
       "      <td>0</td>\n",
       "      <td>0</td>\n",
       "      <td>0</td>\n",
       "      <td>0</td>\n",
       "      <td>0</td>\n",
       "      <td>0</td>\n",
       "    </tr>\n",
       "    <tr>\n",
       "      <th>324466</th>\n",
       "      <td>0</td>\n",
       "      <td>63</td>\n",
       "      <td>76</td>\n",
       "      <td>9</td>\n",
       "      <td>10</td>\n",
       "      <td>4</td>\n",
       "      <td>15</td>\n",
       "      <td>0.27</td>\n",
       "      <td>0</td>\n",
       "      <td>0</td>\n",
       "      <td>...</td>\n",
       "      <td>0</td>\n",
       "      <td>0</td>\n",
       "      <td>0</td>\n",
       "      <td>0</td>\n",
       "      <td>0</td>\n",
       "      <td>0</td>\n",
       "      <td>0</td>\n",
       "      <td>0</td>\n",
       "      <td>0</td>\n",
       "      <td>0</td>\n",
       "    </tr>\n",
       "    <tr>\n",
       "      <th>398558</th>\n",
       "      <td>0</td>\n",
       "      <td>124</td>\n",
       "      <td>125</td>\n",
       "      <td>20</td>\n",
       "      <td>20</td>\n",
       "      <td>18</td>\n",
       "      <td>20</td>\n",
       "      <td>0.90</td>\n",
       "      <td>0</td>\n",
       "      <td>0</td>\n",
       "      <td>...</td>\n",
       "      <td>0</td>\n",
       "      <td>0</td>\n",
       "      <td>0</td>\n",
       "      <td>0</td>\n",
       "      <td>0</td>\n",
       "      <td>0</td>\n",
       "      <td>0</td>\n",
       "      <td>0</td>\n",
       "      <td>0</td>\n",
       "      <td>0</td>\n",
       "    </tr>\n",
       "    <tr>\n",
       "      <th>339914</th>\n",
       "      <td>0</td>\n",
       "      <td>54</td>\n",
       "      <td>40</td>\n",
       "      <td>11</td>\n",
       "      <td>8</td>\n",
       "      <td>2</td>\n",
       "      <td>15</td>\n",
       "      <td>0.13</td>\n",
       "      <td>0</td>\n",
       "      <td>0</td>\n",
       "      <td>...</td>\n",
       "      <td>0</td>\n",
       "      <td>0</td>\n",
       "      <td>0</td>\n",
       "      <td>0</td>\n",
       "      <td>0</td>\n",
       "      <td>0</td>\n",
       "      <td>0</td>\n",
       "      <td>0</td>\n",
       "      <td>0</td>\n",
       "      <td>0</td>\n",
       "    </tr>\n",
       "    <tr>\n",
       "      <th>185732</th>\n",
       "      <td>0</td>\n",
       "      <td>51</td>\n",
       "      <td>38</td>\n",
       "      <td>12</td>\n",
       "      <td>7</td>\n",
       "      <td>3</td>\n",
       "      <td>14</td>\n",
       "      <td>0.21</td>\n",
       "      <td>0</td>\n",
       "      <td>0</td>\n",
       "      <td>...</td>\n",
       "      <td>0</td>\n",
       "      <td>0</td>\n",
       "      <td>0</td>\n",
       "      <td>0</td>\n",
       "      <td>0</td>\n",
       "      <td>0</td>\n",
       "      <td>0</td>\n",
       "      <td>0</td>\n",
       "      <td>0</td>\n",
       "      <td>0</td>\n",
       "    </tr>\n",
       "  </tbody>\n",
       "</table>\n",
       "<p>5 rows × 6008 columns</p>\n",
       "</div>"
      ],
      "text/plain": [
       "        is_duplicate  q1_len  q2_len  q1_num_words  q2_num_words  \\\n",
       "120567             0      26      39             5             8   \n",
       "324466             0      63      76             9            10   \n",
       "398558             0     124     125            20            20   \n",
       "339914             0      54      40            11             8   \n",
       "185732             0      51      38            12             7   \n",
       "\n",
       "        common_words  total_words  word_share  0  1  ...  5990  5991  5992  \\\n",
       "120567             2           10        0.20  0  0  ...     0     0     0   \n",
       "324466             4           15        0.27  0  0  ...     0     0     0   \n",
       "398558            18           20        0.90  0  0  ...     0     0     0   \n",
       "339914             2           15        0.13  0  0  ...     0     0     0   \n",
       "185732             3           14        0.21  0  0  ...     0     0     0   \n",
       "\n",
       "        5993  5994  5995  5996  5997  5998  5999  \n",
       "120567     0     0     0     0     0     0     0  \n",
       "324466     0     0     0     0     0     0     0  \n",
       "398558     0     0     0     0     0     0     0  \n",
       "339914     0     0     0     0     0     0     0  \n",
       "185732     0     0     0     0     0     0     0  \n",
       "\n",
       "[5 rows x 6008 columns]"
      ]
     },
     "execution_count": 87,
     "metadata": {},
     "output_type": "execute_result"
    }
   ],
   "source": [
    "final_combined.head()"
   ]
  },
  {
   "cell_type": "code",
   "execution_count": 114,
   "id": "ea3b71bc-8e81-472e-ab91-62cbda6595b2",
   "metadata": {},
   "outputs": [
    {
     "name": "stdout",
     "output_type": "stream",
     "text": [
      "        q1_len  q2_len  q1_num_words  q2_num_words  common_words  total_words  \\\n",
      "381700      34      38             8             8             6           10   \n",
      "194353      43      47             7             8             7            8   \n",
      "385585      26      27             6             6             5            7   \n",
      "262664      65      50            10             9             4           15   \n",
      "322544      41      26             6             5             2            9   \n",
      "...        ...     ...           ...           ...           ...          ...   \n",
      "301439      87      65            13            11             2           20   \n",
      "300444      63      48             9             7             1           15   \n",
      "90563       39      70             6            14             1           18   \n",
      "392902      41      30             8             6             4           10   \n",
      "76189       50      48             9             9             7           11   \n",
      "\n",
      "        word_share  0  1  2  ...  5990  5991  5992  5993  5994  5995  5996  \\\n",
      "381700        0.60  0  0  0  ...     0     0     0     0     0     0     0   \n",
      "194353        0.88  0  0  0  ...     0     0     0     0     0     0     0   \n",
      "385585        0.71  0  0  0  ...     0     0     0     0     0     0     0   \n",
      "262664        0.27  0  0  0  ...     0     0     0     0     0     0     0   \n",
      "322544        0.22  0  0  0  ...     0     0     0     0     0     0     0   \n",
      "...            ... .. .. ..  ...   ...   ...   ...   ...   ...   ...   ...   \n",
      "301439        0.10  0  0  0  ...     0     0     0     0     0     0     0   \n",
      "300444        0.07  0  0  0  ...     0     0     0     0     0     0     0   \n",
      "90563         0.06  0  0  0  ...     0     0     0     0     0     0     0   \n",
      "392902        0.40  0  0  0  ...     0     0     0     0     0     0     0   \n",
      "76189         0.64  0  0  0  ...     0     0     0     0     0     0     0   \n",
      "\n",
      "        5997  5998  5999  \n",
      "381700     0     0     0  \n",
      "194353     0     0     0  \n",
      "385585     0     0     0  \n",
      "262664     0     0     0  \n",
      "322544     0     0     0  \n",
      "...      ...   ...   ...  \n",
      "301439     0     0     0  \n",
      "300444     0     0     0  \n",
      "90563      0     0     0  \n",
      "392902     0     0     0  \n",
      "76189      0     0     0  \n",
      "\n",
      "[3000 rows x 6007 columns]\n",
      "381700    0\n",
      "194353    1\n",
      "385585    1\n",
      "262664    1\n",
      "322544    0\n",
      "         ..\n",
      "301439    0\n",
      "300444    0\n",
      "90563     0\n",
      "392902    0\n",
      "76189     0\n",
      "Name: is_duplicate, Length: 3000, dtype: int64\n"
     ]
    }
   ],
   "source": [
    "final_combined_1= final_combined.sample(n=3000, random_state= 42)\n",
    "X= final_combined_1.drop('is_duplicate' , axis= 1)\n",
    "y= final_combined_1['is_duplicate']\n",
    "print(X)\n",
    "print(y)"
   ]
  },
  {
   "cell_type": "code",
   "execution_count": 115,
   "id": "b93866da-8e19-4b08-aa59-4208fa005f93",
   "metadata": {},
   "outputs": [],
   "source": [
    "from sklearn.model_selection import train_test_split\n",
    "X_train, X_test,Y_train, Y_test = train_test_split(X, y, test_size= 0.2, random_state= 42)"
   ]
  },
  {
   "cell_type": "code",
   "execution_count": 116,
   "id": "433840c3-ed14-4fd9-8a9d-677af472bf19",
   "metadata": {},
   "outputs": [
    {
     "name": "stderr",
     "output_type": "stream",
     "text": [
      "C:\\Users\\purni\\AppData\\Local\\Programs\\Python\\Python39\\lib\\site-packages\\sklearn\\utils\\validation.py:921: UserWarning: pandas.DataFrame with sparse columns found.It will be converted to a dense numpy array.\n",
      "  warnings.warn(\n",
      "C:\\Users\\purni\\AppData\\Local\\Programs\\Python\\Python39\\lib\\site-packages\\sklearn\\utils\\validation.py:921: UserWarning: pandas.DataFrame with sparse columns found.It will be converted to a dense numpy array.\n",
      "  warnings.warn(\n"
     ]
    }
   ],
   "source": [
    "from sklearn.ensemble import RandomForestClassifier\n",
    "X_train.columns = X_train.columns.astype(str)\n",
    "X_test.columns = X_test.columns.astype(str)\n",
    "model= RandomForestClassifier(n_estimators= 100  , random_state= 42)\n",
    "model.fit(X_train, Y_train)\n",
    "y_pred = model.predict(X_test)\n"
   ]
  },
  {
   "cell_type": "code",
   "execution_count": 117,
   "id": "0f6c918d-2fd3-4455-befd-0a4073a6ae7c",
   "metadata": {},
   "outputs": [
    {
     "name": "stdout",
     "output_type": "stream",
     "text": [
      "0.7066666666666667\n"
     ]
    }
   ],
   "source": [
    "from sklearn.metrics import accuracy_score\n",
    "print(accuracy_score(Y_test, y_pred))"
   ]
  },
  {
   "cell_type": "code",
   "execution_count": 118,
   "id": "6087bd95-36db-487c-a24a-16685239a39e",
   "metadata": {},
   "outputs": [
    {
     "name": "stdout",
     "output_type": "stream",
     "text": [
      "        q1_len  q2_len  q1_num_words  q2_num_words  common_words  total_words  \\\n",
      "120567      26      39             5             8             2           10   \n",
      "324466      63      76             9            10             4           15   \n",
      "398558     124     125            20            20            18           20   \n",
      "339914      54      40            11             8             2           15   \n",
      "185732      51      38            12             7             3           14   \n",
      "...        ...     ...           ...           ...           ...          ...   \n",
      "353403      48      28            12             6             4           13   \n",
      "168089      28      52             6            10             1           14   \n",
      "228275      49      41             8             7             3           12   \n",
      "158461      69      71            14            11             4           21   \n",
      "63971       25      25             5             5             4            6   \n",
      "\n",
      "        word_share  0  1  2  ...  5990  5991  5992  5993  5994  5995  5996  \\\n",
      "120567        0.20  0  0  0  ...     0     0     0     0     0     0     0   \n",
      "324466        0.27  0  0  0  ...     0     0     0     0     0     0     0   \n",
      "398558        0.90  0  0  0  ...     0     0     0     0     0     0     0   \n",
      "339914        0.13  0  0  0  ...     0     0     0     0     0     0     0   \n",
      "185732        0.21  0  0  0  ...     0     0     0     0     0     0     0   \n",
      "...            ... .. .. ..  ...   ...   ...   ...   ...   ...   ...   ...   \n",
      "353403        0.31  0  0  0  ...     0     0     0     0     0     0     0   \n",
      "168089        0.07  0  0  0  ...     0     0     0     0     0     0     0   \n",
      "228275        0.25  0  0  0  ...     0     0     0     0     0     0     0   \n",
      "158461        0.19  0  0  0  ...     0     0     0     0     0     0     0   \n",
      "63971         0.67  0  0  0  ...     0     0     0     0     0     0     0   \n",
      "\n",
      "        5997  5998  5999  \n",
      "120567     0     0     0  \n",
      "324466     0     0     0  \n",
      "398558     0     0     0  \n",
      "339914     0     0     0  \n",
      "185732     0     0     0  \n",
      "...      ...   ...   ...  \n",
      "353403     0     0     0  \n",
      "168089     0     0     0  \n",
      "228275     0     0     0  \n",
      "158461     0     0     0  \n",
      "63971      0     0     0  \n",
      "\n",
      "[30000 rows x 6007 columns]\n",
      "120567    0\n",
      "324466    0\n",
      "398558    0\n",
      "339914    0\n",
      "185732    0\n",
      "         ..\n",
      "353403    0\n",
      "168089    0\n",
      "228275    1\n",
      "158461    1\n",
      "63971     1\n",
      "Name: is_duplicate, Length: 30000, dtype: int64\n"
     ]
    }
   ],
   "source": [
    "X= final_combined.drop('is_duplicate' , axis= 1)\n",
    "y= final_combined['is_duplicate']\n",
    "print(X)\n",
    "print(y)"
   ]
  },
  {
   "cell_type": "code",
   "execution_count": 119,
   "id": "4261db79-f549-4955-bf41-d5b8de1e392d",
   "metadata": {},
   "outputs": [],
   "source": [
    "from sklearn.model_selection import train_test_split\n",
    "X_train, X_test,Y_train, Y_test = train_test_split(X, y, test_size= 0.2, random_state= 42)"
   ]
  },
  {
   "cell_type": "code",
   "execution_count": 124,
   "id": "ab93bc84-a10d-49ea-86fb-3414464f27a3",
   "metadata": {},
   "outputs": [],
   "source": [
    "final_combined_1= final_combined.sample(n=3000, random_state= 42)\n",
    "X_1= final_combined_1.drop('is_duplicate' , axis= 1)\n",
    "y_1= final_combined_1['is_duplicate']\n"
   ]
  },
  {
   "cell_type": "code",
   "execution_count": 125,
   "id": "6e956ce6-ca47-43af-80a1-4ef0d7bd8c8a",
   "metadata": {},
   "outputs": [],
   "source": [
    "from sklearn.model_selection import train_test_split\n",
    "X_train, X_test,Y_train, Y_test = train_test_split(X_1, y_1, test_size= 0.2, random_state= 42)"
   ]
  },
  {
   "cell_type": "code",
   "execution_count": 127,
   "id": "bf46e41c-d9e5-41dd-8d02-d37551213b19",
   "metadata": {},
   "outputs": [
    {
     "name": "stderr",
     "output_type": "stream",
     "text": [
      "C:\\Users\\purni\\AppData\\Local\\Programs\\Python\\Python39\\lib\\site-packages\\sklearn\\utils\\validation.py:921: UserWarning: pandas.DataFrame with sparse columns found.It will be converted to a dense numpy array.\n",
      "  warnings.warn(\n"
     ]
    },
    {
     "name": "stdout",
     "output_type": "stream",
     "text": [
      "0.72\n"
     ]
    },
    {
     "name": "stderr",
     "output_type": "stream",
     "text": [
      "C:\\Users\\purni\\AppData\\Local\\Programs\\Python\\Python39\\lib\\site-packages\\sklearn\\linear_model\\_logistic.py:465: ConvergenceWarning: lbfgs failed to converge (status=1):\n",
      "STOP: TOTAL NO. of ITERATIONS REACHED LIMIT.\n",
      "\n",
      "Increase the number of iterations (max_iter) or scale the data as shown in:\n",
      "    https://scikit-learn.org/stable/modules/preprocessing.html\n",
      "Please also refer to the documentation for alternative solver options:\n",
      "    https://scikit-learn.org/stable/modules/linear_model.html#logistic-regression\n",
      "  n_iter_i = _check_optimize_result(\n",
      "C:\\Users\\purni\\AppData\\Local\\Programs\\Python\\Python39\\lib\\site-packages\\sklearn\\utils\\validation.py:921: UserWarning: pandas.DataFrame with sparse columns found.It will be converted to a dense numpy array.\n",
      "  warnings.warn(\n"
     ]
    }
   ],
   "source": [
    "from sklearn.linear_model import LogisticRegression\n",
    "model = LogisticRegression()\n",
    "X_train.columns = X_train.columns.astype(str)\n",
    "X_test.columns = X_test.columns.astype(str)\n",
    "model.fit(X_train , Y_train)\n",
    "y_pred=  model.predict(X_test)\n",
    "print(accuracy_score(Y_test, y_pred))"
   ]
  },
  {
   "cell_type": "code",
   "execution_count": 128,
   "id": "aaeed8b8-54e6-405f-a097-0ffe6c0fcaa5",
   "metadata": {},
   "outputs": [],
   "source": [
    "final_combined_1= final_combined.sample(n=4000, random_state= 42)\n",
    "X_1= final_combined_1.drop('is_duplicate' , axis= 1)\n",
    "y_1= final_combined_1['is_duplicate']\n",
    "from sklearn.model_selection import train_test_split\n",
    "X_train, X_test,Y_train, Y_test = train_test_split(X_1, y_1, test_size= 0.2, random_state= 42)"
   ]
  },
  {
   "cell_type": "code",
   "execution_count": 129,
   "id": "8f269781-691e-4363-9c3a-755ac3f08b3e",
   "metadata": {},
   "outputs": [
    {
     "name": "stderr",
     "output_type": "stream",
     "text": [
      "C:\\Users\\purni\\AppData\\Local\\Programs\\Python\\Python39\\lib\\site-packages\\sklearn\\utils\\validation.py:921: UserWarning: pandas.DataFrame with sparse columns found.It will be converted to a dense numpy array.\n",
      "  warnings.warn(\n",
      "C:\\Users\\purni\\AppData\\Local\\Programs\\Python\\Python39\\lib\\site-packages\\sklearn\\linear_model\\_logistic.py:465: ConvergenceWarning: lbfgs failed to converge (status=1):\n",
      "STOP: TOTAL NO. of ITERATIONS REACHED LIMIT.\n",
      "\n",
      "Increase the number of iterations (max_iter) or scale the data as shown in:\n",
      "    https://scikit-learn.org/stable/modules/preprocessing.html\n",
      "Please also refer to the documentation for alternative solver options:\n",
      "    https://scikit-learn.org/stable/modules/linear_model.html#logistic-regression\n",
      "  n_iter_i = _check_optimize_result(\n",
      "C:\\Users\\purni\\AppData\\Local\\Programs\\Python\\Python39\\lib\\site-packages\\sklearn\\utils\\validation.py:921: UserWarning: pandas.DataFrame with sparse columns found.It will be converted to a dense numpy array.\n",
      "  warnings.warn(\n"
     ]
    },
    {
     "name": "stdout",
     "output_type": "stream",
     "text": [
      "0.73875\n"
     ]
    }
   ],
   "source": [
    "from sklearn.linear_model import LogisticRegression\n",
    "model = LogisticRegression()\n",
    "X_train.columns = X_train.columns.astype(str)\n",
    "X_test.columns = X_test.columns.astype(str)\n",
    "model.fit(X_train , Y_train)\n",
    "y_pred=  model.predict(X_test)\n",
    "print(accuracy_score(Y_test, y_pred))"
   ]
  },
  {
   "cell_type": "code",
   "execution_count": 132,
   "id": "862120bc-589f-46e7-a085-cfe35c1adced",
   "metadata": {},
   "outputs": [],
   "source": [
    "final_combined_1= final_combined.sample(n=4300, random_state= 42)\n",
    "X_1= final_combined_1.drop('is_duplicate' , axis= 1)\n",
    "y_1= final_combined_1['is_duplicate']\n",
    "from sklearn.model_selection import train_test_split\n",
    "X_train, X_test,Y_train, Y_test = train_test_split(X_1, y_1, test_size= 0.2, random_state= 42)"
   ]
  },
  {
   "cell_type": "code",
   "execution_count": 133,
   "id": "4a163918-08d9-49a3-b21b-a358eb6c89b5",
   "metadata": {},
   "outputs": [
    {
     "name": "stderr",
     "output_type": "stream",
     "text": [
      "C:\\Users\\purni\\AppData\\Local\\Programs\\Python\\Python39\\lib\\site-packages\\sklearn\\utils\\validation.py:921: UserWarning: pandas.DataFrame with sparse columns found.It will be converted to a dense numpy array.\n",
      "  warnings.warn(\n",
      "C:\\Users\\purni\\AppData\\Local\\Programs\\Python\\Python39\\lib\\site-packages\\sklearn\\linear_model\\_logistic.py:465: ConvergenceWarning: lbfgs failed to converge (status=1):\n",
      "STOP: TOTAL NO. of ITERATIONS REACHED LIMIT.\n",
      "\n",
      "Increase the number of iterations (max_iter) or scale the data as shown in:\n",
      "    https://scikit-learn.org/stable/modules/preprocessing.html\n",
      "Please also refer to the documentation for alternative solver options:\n",
      "    https://scikit-learn.org/stable/modules/linear_model.html#logistic-regression\n",
      "  n_iter_i = _check_optimize_result(\n",
      "C:\\Users\\purni\\AppData\\Local\\Programs\\Python\\Python39\\lib\\site-packages\\sklearn\\utils\\validation.py:921: UserWarning: pandas.DataFrame with sparse columns found.It will be converted to a dense numpy array.\n",
      "  warnings.warn(\n"
     ]
    },
    {
     "name": "stdout",
     "output_type": "stream",
     "text": [
      "0.7337209302325581\n"
     ]
    }
   ],
   "source": [
    "from sklearn.linear_model import LogisticRegression\n",
    "model = LogisticRegression()\n",
    "X_train.columns = X_train.columns.astype(str)\n",
    "X_test.columns = X_test.columns.astype(str)\n",
    "model.fit(X_train , Y_train)\n",
    "y_pred=  model.predict(X_test)\n",
    "print(accuracy_score(Y_test, y_pred))"
   ]
  },
  {
   "cell_type": "code",
   "execution_count": 134,
   "id": "d746ae02-5093-435d-a458-e16dd7c09110",
   "metadata": {},
   "outputs": [],
   "source": [
    "from xgboost import XGBClassifier\n",
    "from sklearn.metrics import accuracy_score"
   ]
  },
  {
   "cell_type": "code",
   "execution_count": 140,
   "id": "06fccbd0-6f3e-4329-810e-93fbb353ccac",
   "metadata": {},
   "outputs": [
    {
     "name": "stderr",
     "output_type": "stream",
     "text": [
      "C:\\Users\\purni\\AppData\\Local\\Programs\\Python\\Python39\\lib\\site-packages\\xgboost\\data.py:575: UserWarning: Sparse arrays from pandas are converted into dense.\n",
      "  warnings.warn(\"Sparse arrays from pandas are converted into dense.\")\n",
      "C:\\Users\\purni\\AppData\\Local\\Programs\\Python\\Python39\\lib\\site-packages\\xgboost\\core.py:158: UserWarning: [15:38:37] WARNING: C:\\buildkite-agent\\builds\\buildkite-windows-cpu-autoscaling-group-i-0c55ff5f71b100e98-1\\xgboost\\xgboost-ci-windows\\src\\learner.cc:740: \n",
      "Parameters: { \"use_label_encoder\" } are not used.\n",
      "\n",
      "  warnings.warn(smsg, UserWarning)\n",
      "C:\\Users\\purni\\AppData\\Local\\Programs\\Python\\Python39\\lib\\site-packages\\xgboost\\data.py:575: UserWarning: Sparse arrays from pandas are converted into dense.\n",
      "  warnings.warn(\"Sparse arrays from pandas are converted into dense.\")\n"
     ]
    },
    {
     "name": "stdout",
     "output_type": "stream",
     "text": [
      "Accuracy: 0.7133333333333334\n"
     ]
    }
   ],
   "source": [
    "\n",
    "model = XGBClassifier(eval_metric='logloss', use_label_encoder=False, random_state=42)\n",
    "model.fit(X_train, Y_train)\n",
    "y_pred = model.predict(X_test)\n",
    "print(\"Accuracy:\", accuracy_score(Y_test, y_pred))\n"
   ]
  },
  {
   "cell_type": "code",
   "execution_count": 141,
   "id": "89d4b3c6-9782-4c89-9ee7-2ee27d2d730e",
   "metadata": {},
   "outputs": [],
   "source": [
    "final_combined_1= final_combined.sample(n=4500, random_state= 42)\n",
    "X_1= final_combined_1.drop('is_duplicate' , axis= 1)\n",
    "y_1= final_combined_1['is_duplicate']\n",
    "from sklearn.model_selection import train_test_split\n",
    "X_train, X_test,Y_train, Y_test = train_test_split(X_1, y_1, test_size= 0.2, random_state= 42)"
   ]
  },
  {
   "cell_type": "code",
   "execution_count": 142,
   "id": "3d451f33-36f8-46a9-9f7f-94060918814c",
   "metadata": {},
   "outputs": [
    {
     "name": "stderr",
     "output_type": "stream",
     "text": [
      "C:\\Users\\purni\\AppData\\Local\\Programs\\Python\\Python39\\lib\\site-packages\\xgboost\\data.py:575: UserWarning: Sparse arrays from pandas are converted into dense.\n",
      "  warnings.warn(\"Sparse arrays from pandas are converted into dense.\")\n",
      "C:\\Users\\purni\\AppData\\Local\\Programs\\Python\\Python39\\lib\\site-packages\\xgboost\\core.py:158: UserWarning: [15:40:18] WARNING: C:\\buildkite-agent\\builds\\buildkite-windows-cpu-autoscaling-group-i-0c55ff5f71b100e98-1\\xgboost\\xgboost-ci-windows\\src\\learner.cc:740: \n",
      "Parameters: { \"use_label_encoder\" } are not used.\n",
      "\n",
      "  warnings.warn(smsg, UserWarning)\n",
      "C:\\Users\\purni\\AppData\\Local\\Programs\\Python\\Python39\\lib\\site-packages\\xgboost\\data.py:575: UserWarning: Sparse arrays from pandas are converted into dense.\n",
      "  warnings.warn(\"Sparse arrays from pandas are converted into dense.\")\n"
     ]
    },
    {
     "name": "stdout",
     "output_type": "stream",
     "text": [
      "Accuracy: 0.7333333333333333\n"
     ]
    }
   ],
   "source": [
    "\n",
    "model = XGBClassifier(eval_metric='logloss', use_label_encoder=False, random_state=42)\n",
    "model.fit(X_train, Y_train)\n",
    "y_pred = model.predict(X_test)\n",
    "print(\"Accuracy:\", accuracy_score(Y_test, y_pred))\n"
   ]
  },
  {
   "cell_type": "code",
   "execution_count": 143,
   "id": "ea8de18f-aded-4175-bcf0-055b18cf11e5",
   "metadata": {},
   "outputs": [],
   "source": [
    "final_combined_1= final_combined.sample(n=5000, random_state= 42)\n",
    "X_1= final_combined_1.drop('is_duplicate' , axis= 1)\n",
    "y_1= final_combined_1['is_duplicate']\n",
    "from sklearn.model_selection import train_test_split\n",
    "X_train, X_test,Y_train, Y_test = train_test_split(X_1, y_1, test_size= 0.2, random_state= 42)"
   ]
  },
  {
   "cell_type": "code",
   "execution_count": 144,
   "id": "bbda4963-206c-427d-add3-d2588893d281",
   "metadata": {},
   "outputs": [
    {
     "name": "stderr",
     "output_type": "stream",
     "text": [
      "C:\\Users\\purni\\AppData\\Local\\Programs\\Python\\Python39\\lib\\site-packages\\xgboost\\data.py:575: UserWarning: Sparse arrays from pandas are converted into dense.\n",
      "  warnings.warn(\"Sparse arrays from pandas are converted into dense.\")\n",
      "C:\\Users\\purni\\AppData\\Local\\Programs\\Python\\Python39\\lib\\site-packages\\xgboost\\core.py:158: UserWarning: [15:41:05] WARNING: C:\\buildkite-agent\\builds\\buildkite-windows-cpu-autoscaling-group-i-0c55ff5f71b100e98-1\\xgboost\\xgboost-ci-windows\\src\\learner.cc:740: \n",
      "Parameters: { \"use_label_encoder\" } are not used.\n",
      "\n",
      "  warnings.warn(smsg, UserWarning)\n",
      "C:\\Users\\purni\\AppData\\Local\\Programs\\Python\\Python39\\lib\\site-packages\\xgboost\\data.py:575: UserWarning: Sparse arrays from pandas are converted into dense.\n",
      "  warnings.warn(\"Sparse arrays from pandas are converted into dense.\")\n"
     ]
    },
    {
     "name": "stdout",
     "output_type": "stream",
     "text": [
      "Accuracy: 0.718\n"
     ]
    }
   ],
   "source": [
    "\n",
    "model = XGBClassifier(eval_metric='logloss', use_label_encoder=False, random_state=42)\n",
    "model.fit(X_train, Y_train)\n",
    "y_pred = model.predict(X_test)\n",
    "print(\"Accuracy:\", accuracy_score(Y_test, y_pred))\n"
   ]
  },
  {
   "cell_type": "code",
   "execution_count": 159,
   "id": "aded1ac4-0028-4fa0-bc1b-7ea960af40c4",
   "metadata": {},
   "outputs": [],
   "source": [
    "final_combined_1= final_combined.sample(n=8000, random_state= 42)\n",
    "X_1= final_combined_1.drop('is_duplicate' , axis= 1)\n",
    "y_1= final_combined_1['is_duplicate']\n",
    "from sklearn.model_selection import train_test_split\n",
    "X_train, X_test,Y_train, Y_test = train_test_split(X_1, y_1, test_size= 0.2, random_state= 42)"
   ]
  },
  {
   "cell_type": "code",
   "execution_count": 160,
   "id": "9d1b9c55-8755-4584-9d8d-9bae87070bf0",
   "metadata": {},
   "outputs": [
    {
     "name": "stderr",
     "output_type": "stream",
     "text": [
      "C:\\Users\\purni\\AppData\\Local\\Programs\\Python\\Python39\\lib\\site-packages\\xgboost\\data.py:575: UserWarning: Sparse arrays from pandas are converted into dense.\n",
      "  warnings.warn(\"Sparse arrays from pandas are converted into dense.\")\n",
      "C:\\Users\\purni\\AppData\\Local\\Programs\\Python\\Python39\\lib\\site-packages\\xgboost\\data.py:575: UserWarning: Sparse arrays from pandas are converted into dense.\n",
      "  warnings.warn(\"Sparse arrays from pandas are converted into dense.\")\n"
     ]
    },
    {
     "name": "stdout",
     "output_type": "stream",
     "text": [
      "Accuracy: 0.7275\n"
     ]
    }
   ],
   "source": [
    "\n",
    "model = XGBClassifier()\n",
    "model.fit(X_train, Y_train)\n",
    "y_pred = model.predict(X_test)\n",
    "print(\"Accuracy:\", accuracy_score(Y_test, y_pred))\n"
   ]
  },
  {
   "cell_type": "code",
   "execution_count": 161,
   "id": "e3f06bd2-e4a1-4e26-a5cf-0145d5c51c24",
   "metadata": {},
   "outputs": [],
   "source": [
    "final_combined_1= final_combined.sample(n=10000, random_state= 42)\n",
    "X_1= final_combined_1.drop('is_duplicate' , axis= 1)\n",
    "y_1= final_combined_1['is_duplicate']\n",
    "from sklearn.model_selection import train_test_split\n",
    "X_train, X_test,Y_train, Y_test = train_test_split(X_1, y_1, test_size= 0.2, random_state= 42)"
   ]
  },
  {
   "cell_type": "code",
   "execution_count": 165,
   "id": "215d6636-b783-4cd1-8d8d-8a6f022a8731",
   "metadata": {},
   "outputs": [
    {
     "name": "stderr",
     "output_type": "stream",
     "text": [
      "C:\\Users\\purni\\AppData\\Local\\Programs\\Python\\Python39\\lib\\site-packages\\xgboost\\data.py:575: UserWarning: Sparse arrays from pandas are converted into dense.\n",
      "  warnings.warn(\"Sparse arrays from pandas are converted into dense.\")\n",
      "C:\\Users\\purni\\AppData\\Local\\Programs\\Python\\Python39\\lib\\site-packages\\xgboost\\data.py:575: UserWarning: Sparse arrays from pandas are converted into dense.\n",
      "  warnings.warn(\"Sparse arrays from pandas are converted into dense.\")\n"
     ]
    },
    {
     "name": "stdout",
     "output_type": "stream",
     "text": [
      "Accuracy: 0.7447368421052631\n"
     ]
    }
   ],
   "source": [
    "\n",
    "model = XGBClassifier()\n",
    "model.fit(X_train, Y_train)\n",
    "y_pred = model.predict(X_test)\n",
    "print(\"Accuracy:\", accuracy_score(Y_test, y_pred))\n"
   ]
  },
  {
   "cell_type": "code",
   "execution_count": 168,
   "id": "253057e2-e6ed-4b22-8608-0c295f42421f",
   "metadata": {},
   "outputs": [],
   "source": [
    "final_combined_1= final_combined.sample(n=10000, random_state= 42)\n",
    "X_1= final_combined_1.drop('is_duplicate' , axis= 1)\n",
    "y_1= final_combined_1['is_duplicate']\n",
    "from sklearn.model_selection import train_test_split\n",
    "X_train, X_test,Y_train, Y_test = train_test_split(X_1, y_1, test_size= 0.2, random_state= 42)"
   ]
  },
  {
   "cell_type": "code",
   "execution_count": 174,
   "id": "e6d20a06-e5c7-4ff9-850c-cca7d994c2e0",
   "metadata": {},
   "outputs": [
    {
     "name": "stderr",
     "output_type": "stream",
     "text": [
      "C:\\Users\\purni\\AppData\\Local\\Programs\\Python\\Python39\\lib\\site-packages\\sklearn\\utils\\validation.py:921: UserWarning: pandas.DataFrame with sparse columns found.It will be converted to a dense numpy array.\n",
      "  warnings.warn(\n",
      "C:\\Users\\purni\\AppData\\Local\\Programs\\Python\\Python39\\lib\\site-packages\\sklearn\\utils\\validation.py:921: UserWarning: pandas.DataFrame with sparse columns found.It will be converted to a dense numpy array.\n",
      "  warnings.warn(\n"
     ]
    },
    {
     "data": {
      "text/plain": [
       "0.703"
      ]
     },
     "execution_count": 174,
     "metadata": {},
     "output_type": "execute_result"
    }
   ],
   "source": [
    "from sklearn.linear_model import SGDClassifier\n",
    "X_train.columns = X_train.columns.astype(str)\n",
    "X_test.columns = X_test.columns.astype(str)\n",
    "model = SGDClassifier(loss='log_loss', max_iter=1500, random_state=42)\n",
    "model.fit(X_train, Y_train)\n",
    "y_pred = model.predict(X_test)\n",
    "accuracy_score(Y_test, y_pred)"
   ]
  },
  {
   "cell_type": "code",
   "execution_count": 175,
   "id": "f7113043-56d1-4716-8dcb-a334873a69c4",
   "metadata": {},
   "outputs": [
    {
     "name": "stderr",
     "output_type": "stream",
     "text": [
      "C:\\Users\\purni\\AppData\\Local\\Programs\\Python\\Python39\\lib\\site-packages\\sklearn\\utils\\validation.py:921: UserWarning: pandas.DataFrame with sparse columns found.It will be converted to a dense numpy array.\n",
      "  warnings.warn(\n",
      "C:\\Users\\purni\\AppData\\Local\\Programs\\Python\\Python39\\lib\\site-packages\\sklearn\\utils\\validation.py:921: UserWarning: pandas.DataFrame with sparse columns found.It will be converted to a dense numpy array.\n",
      "  warnings.warn(\n"
     ]
    },
    {
     "data": {
      "text/plain": [
       "0.7295"
      ]
     },
     "execution_count": 175,
     "metadata": {},
     "output_type": "execute_result"
    }
   ],
   "source": [
    "from sklearn.naive_bayes import MultinomialNB\n",
    "\n",
    "model = MultinomialNB()\n",
    "model.fit(X_train, Y_train)\n",
    "y_pred = model.predict(X_test)\n",
    "accuracy_score(Y_test, y_pred)"
   ]
  },
  {
   "cell_type": "code",
   "execution_count": 176,
   "id": "4255e086-b84b-474b-b438-705ba34e42bd",
   "metadata": {},
   "outputs": [],
   "source": [
    "final_combined_1= final_combined.sample(n=9000, random_state= 42)\n",
    "X_1= final_combined_1.drop('is_duplicate' , axis= 1)\n",
    "y_1= final_combined_1['is_duplicate']\n",
    "from sklearn.model_selection import train_test_split\n",
    "X_train, X_test,Y_train, Y_test = train_test_split(X_1, y_1, test_size= 0.2, random_state= 42)"
   ]
  },
  {
   "cell_type": "code",
   "execution_count": 178,
   "id": "f0292275-a97c-4497-ab02-6638e7d41e2f",
   "metadata": {},
   "outputs": [
    {
     "name": "stderr",
     "output_type": "stream",
     "text": [
      "C:\\Users\\purni\\AppData\\Local\\Programs\\Python\\Python39\\lib\\site-packages\\sklearn\\utils\\validation.py:921: UserWarning: pandas.DataFrame with sparse columns found.It will be converted to a dense numpy array.\n",
      "  warnings.warn(\n",
      "C:\\Users\\purni\\AppData\\Local\\Programs\\Python\\Python39\\lib\\site-packages\\sklearn\\utils\\validation.py:921: UserWarning: pandas.DataFrame with sparse columns found.It will be converted to a dense numpy array.\n",
      "  warnings.warn(\n"
     ]
    },
    {
     "data": {
      "text/plain": [
       "0.7277777777777777"
      ]
     },
     "execution_count": 178,
     "metadata": {},
     "output_type": "execute_result"
    }
   ],
   "source": [
    "from sklearn.naive_bayes import MultinomialNB\n",
    "X_train.columns = X_train.columns.astype(str)\n",
    "X_test.columns = X_test.columns.astype(str)\n",
    "model = MultinomialNB()\n",
    "model.fit(X_train, Y_train)\n",
    "y_pred = model.predict(X_test)\n",
    "accuracy_score(Y_test, y_pred)"
   ]
  },
  {
   "cell_type": "code",
   "execution_count": 179,
   "id": "7e0bdfa3-df47-4a15-9b2d-27b45c770000",
   "metadata": {},
   "outputs": [],
   "source": [
    "final_combined_1= final_combined.sample(n=15000, random_state= 42)\n",
    "X_1= final_combined_1.drop('is_duplicate' , axis= 1)\n",
    "y_1= final_combined_1['is_duplicate']\n",
    "from sklearn.model_selection import train_test_split\n",
    "X_train, X_test,Y_train, Y_test = train_test_split(X_1, y_1, test_size= 0.2, random_state= 42)"
   ]
  },
  {
   "cell_type": "code",
   "execution_count": 180,
   "id": "d977c903-3d02-4320-b5ff-43b4652e61ee",
   "metadata": {},
   "outputs": [
    {
     "name": "stderr",
     "output_type": "stream",
     "text": [
      "C:\\Users\\purni\\AppData\\Local\\Programs\\Python\\Python39\\lib\\site-packages\\sklearn\\utils\\validation.py:921: UserWarning: pandas.DataFrame with sparse columns found.It will be converted to a dense numpy array.\n",
      "  warnings.warn(\n",
      "C:\\Users\\purni\\AppData\\Local\\Programs\\Python\\Python39\\lib\\site-packages\\sklearn\\utils\\validation.py:921: UserWarning: pandas.DataFrame with sparse columns found.It will be converted to a dense numpy array.\n",
      "  warnings.warn(\n"
     ]
    },
    {
     "data": {
      "text/plain": [
       "0.7313333333333333"
      ]
     },
     "execution_count": 180,
     "metadata": {},
     "output_type": "execute_result"
    }
   ],
   "source": [
    "from sklearn.naive_bayes import MultinomialNB\n",
    "X_train.columns = X_train.columns.astype(str)\n",
    "X_test.columns = X_test.columns.astype(str)\n",
    "model = MultinomialNB()\n",
    "model.fit(X_train, Y_train)\n",
    "y_pred = model.predict(X_test)\n",
    "accuracy_score(Y_test, y_pred)"
   ]
  },
  {
   "cell_type": "code",
   "execution_count": 181,
   "id": "9155a71d-8376-4ba2-8e57-59c6485854b7",
   "metadata": {},
   "outputs": [],
   "source": [
    "final_combined_1= final_combined.sample(n=25000, random_state= 42)\n",
    "X_1= final_combined_1.drop('is_duplicate' , axis= 1)\n",
    "y_1= final_combined_1['is_duplicate']\n",
    "from sklearn.model_selection import train_test_split\n",
    "X_train, X_test,Y_train, Y_test = train_test_split(X_1, y_1, test_size= 0.2, random_state= 42)"
   ]
  },
  {
   "cell_type": "code",
   "execution_count": 182,
   "id": "d67f7414-a355-4f61-8325-210fa310adfb",
   "metadata": {},
   "outputs": [
    {
     "name": "stderr",
     "output_type": "stream",
     "text": [
      "C:\\Users\\purni\\AppData\\Local\\Programs\\Python\\Python39\\lib\\site-packages\\sklearn\\utils\\validation.py:921: UserWarning: pandas.DataFrame with sparse columns found.It will be converted to a dense numpy array.\n",
      "  warnings.warn(\n",
      "C:\\Users\\purni\\AppData\\Local\\Programs\\Python\\Python39\\lib\\site-packages\\sklearn\\utils\\validation.py:921: UserWarning: pandas.DataFrame with sparse columns found.It will be converted to a dense numpy array.\n",
      "  warnings.warn(\n"
     ]
    },
    {
     "data": {
      "text/plain": [
       "0.7442"
      ]
     },
     "execution_count": 182,
     "metadata": {},
     "output_type": "execute_result"
    }
   ],
   "source": [
    "from sklearn.naive_bayes import MultinomialNB\n",
    "X_train.columns = X_train.columns.astype(str)\n",
    "X_test.columns = X_test.columns.astype(str)\n",
    "model = MultinomialNB()\n",
    "model.fit(X_train, Y_train)\n",
    "y_pred = model.predict(X_test)\n",
    "accuracy_score(Y_test, y_pred)"
   ]
  },
  {
   "cell_type": "code",
   "execution_count": 183,
   "id": "9e733aa4-3a00-4615-a24c-c2a2cf25c45b",
   "metadata": {},
   "outputs": [],
   "source": [
    "final_combined_1= final_combined.sample(n=30000, random_state= 42)\n",
    "X_1= final_combined_1.drop('is_duplicate' , axis= 1)\n",
    "y_1= final_combined_1['is_duplicate']\n",
    "from sklearn.model_selection import train_test_split\n",
    "X_train, X_test,Y_train, Y_test = train_test_split(X_1, y_1, test_size= 0.2, random_state= 42)"
   ]
  },
  {
   "cell_type": "code",
   "execution_count": 184,
   "id": "f576802a-7f48-4d74-9183-f1f69fbfb419",
   "metadata": {},
   "outputs": [
    {
     "name": "stderr",
     "output_type": "stream",
     "text": [
      "C:\\Users\\purni\\AppData\\Local\\Programs\\Python\\Python39\\lib\\site-packages\\sklearn\\utils\\validation.py:921: UserWarning: pandas.DataFrame with sparse columns found.It will be converted to a dense numpy array.\n",
      "  warnings.warn(\n",
      "C:\\Users\\purni\\AppData\\Local\\Programs\\Python\\Python39\\lib\\site-packages\\sklearn\\utils\\validation.py:921: UserWarning: pandas.DataFrame with sparse columns found.It will be converted to a dense numpy array.\n",
      "  warnings.warn(\n"
     ]
    },
    {
     "data": {
      "text/plain": [
       "0.7381666666666666"
      ]
     },
     "execution_count": 184,
     "metadata": {},
     "output_type": "execute_result"
    }
   ],
   "source": [
    "from sklearn.naive_bayes import MultinomialNB\n",
    "X_train.columns = X_train.columns.astype(str)\n",
    "X_test.columns = X_test.columns.astype(str)\n",
    "model = MultinomialNB()\n",
    "model.fit(X_train, Y_train)\n",
    "y_pred = model.predict(X_test)\n",
    "accuracy_score(Y_test, y_pred)"
   ]
  },
  {
   "cell_type": "code",
   "execution_count": null,
   "id": "34db3bd3-658e-4d69-90f7-aff04f830db5",
   "metadata": {},
   "outputs": [],
   "source": []
  }
 ],
 "metadata": {
  "kernelspec": {
   "display_name": "Python 3 (ipykernel)",
   "language": "python",
   "name": "python3"
  },
  "language_info": {
   "codemirror_mode": {
    "name": "ipython",
    "version": 3
   },
   "file_extension": ".py",
   "mimetype": "text/x-python",
   "name": "python",
   "nbconvert_exporter": "python",
   "pygments_lexer": "ipython3",
   "version": "3.9.13"
  }
 },
 "nbformat": 4,
 "nbformat_minor": 5
}

{
 "cells": [
  {
   "cell_type": "code",
   "execution_count": 2,
   "id": "535fe5dc-69da-4a56-919e-d1b4b0ef0cda",
   "metadata": {},
   "outputs": [],
   "source": [
    "import pandas as pd "
   ]
  },
  {
   "cell_type": "code",
   "execution_count": 3,
   "id": "df6e6508-04ed-4de3-97a6-a86ab118865f",
   "metadata": {},
   "outputs": [],
   "source": [
    "df = pd.read_csv('Quora.csv')"
   ]
  },
  {
   "cell_type": "code",
   "execution_count": 4,
   "id": "1c3603a6-b82f-4c69-8f21-a557a006f7df",
   "metadata": {},
   "outputs": [
    {
     "data": {
      "text/html": [
       "<div>\n",
       "<style scoped>\n",
       "    .dataframe tbody tr th:only-of-type {\n",
       "        vertical-align: middle;\n",
       "    }\n",
       "\n",
       "    .dataframe tbody tr th {\n",
       "        vertical-align: top;\n",
       "    }\n",
       "\n",
       "    .dataframe thead th {\n",
       "        text-align: right;\n",
       "    }\n",
       "</style>\n",
       "<table border=\"1\" class=\"dataframe\">\n",
       "  <thead>\n",
       "    <tr style=\"text-align: right;\">\n",
       "      <th></th>\n",
       "      <th>id</th>\n",
       "      <th>qid1</th>\n",
       "      <th>qid2</th>\n",
       "      <th>question1</th>\n",
       "      <th>question2</th>\n",
       "      <th>is_duplicate</th>\n",
       "    </tr>\n",
       "  </thead>\n",
       "  <tbody>\n",
       "    <tr>\n",
       "      <th>0</th>\n",
       "      <td>0</td>\n",
       "      <td>1</td>\n",
       "      <td>2</td>\n",
       "      <td>What is the step by step guide to invest in sh...</td>\n",
       "      <td>What is the step by step guide to invest in sh...</td>\n",
       "      <td>0</td>\n",
       "    </tr>\n",
       "    <tr>\n",
       "      <th>1</th>\n",
       "      <td>1</td>\n",
       "      <td>3</td>\n",
       "      <td>4</td>\n",
       "      <td>What is the story of Kohinoor (Koh-i-Noor) Dia...</td>\n",
       "      <td>What would happen if the Indian government sto...</td>\n",
       "      <td>0</td>\n",
       "    </tr>\n",
       "    <tr>\n",
       "      <th>2</th>\n",
       "      <td>2</td>\n",
       "      <td>5</td>\n",
       "      <td>6</td>\n",
       "      <td>How can I increase the speed of my internet co...</td>\n",
       "      <td>How can Internet speed be increased by hacking...</td>\n",
       "      <td>0</td>\n",
       "    </tr>\n",
       "    <tr>\n",
       "      <th>3</th>\n",
       "      <td>3</td>\n",
       "      <td>7</td>\n",
       "      <td>8</td>\n",
       "      <td>Why am I mentally very lonely? How can I solve...</td>\n",
       "      <td>Find the remainder when [math]23^{24}[/math] i...</td>\n",
       "      <td>0</td>\n",
       "    </tr>\n",
       "    <tr>\n",
       "      <th>4</th>\n",
       "      <td>4</td>\n",
       "      <td>9</td>\n",
       "      <td>10</td>\n",
       "      <td>Which one dissolve in water quikly sugar, salt...</td>\n",
       "      <td>Which fish would survive in salt water?</td>\n",
       "      <td>0</td>\n",
       "    </tr>\n",
       "  </tbody>\n",
       "</table>\n",
       "</div>"
      ],
      "text/plain": [
       "   id  qid1  qid2                                          question1  \\\n",
       "0   0     1     2  What is the step by step guide to invest in sh...   \n",
       "1   1     3     4  What is the story of Kohinoor (Koh-i-Noor) Dia...   \n",
       "2   2     5     6  How can I increase the speed of my internet co...   \n",
       "3   3     7     8  Why am I mentally very lonely? How can I solve...   \n",
       "4   4     9    10  Which one dissolve in water quikly sugar, salt...   \n",
       "\n",
       "                                           question2  is_duplicate  \n",
       "0  What is the step by step guide to invest in sh...             0  \n",
       "1  What would happen if the Indian government sto...             0  \n",
       "2  How can Internet speed be increased by hacking...             0  \n",
       "3  Find the remainder when [math]23^{24}[/math] i...             0  \n",
       "4            Which fish would survive in salt water?             0  "
      ]
     },
     "execution_count": 4,
     "metadata": {},
     "output_type": "execute_result"
    }
   ],
   "source": [
    "df.head()"
   ]
  },
  {
   "cell_type": "code",
   "execution_count": 5,
   "id": "b9800b4a-f8f4-4870-9655-5e4eed515e57",
   "metadata": {},
   "outputs": [
    {
     "name": "stdout",
     "output_type": "stream",
     "text": [
      "What is the step by step guide to invest in share market in india?\n",
      "What is the step by step guide to invest in share market?\n"
     ]
    }
   ],
   "source": [
    "print(df['question1'][0])\n",
    "print(df['question2'][0])\n"
   ]
  },
  {
   "cell_type": "code",
   "execution_count": 6,
   "id": "db648e74-e1a4-4b94-9cb7-54ac01e2898a",
   "metadata": {},
   "outputs": [
    {
     "data": {
      "text/html": [
       "<div>\n",
       "<style scoped>\n",
       "    .dataframe tbody tr th:only-of-type {\n",
       "        vertical-align: middle;\n",
       "    }\n",
       "\n",
       "    .dataframe tbody tr th {\n",
       "        vertical-align: top;\n",
       "    }\n",
       "\n",
       "    .dataframe thead th {\n",
       "        text-align: right;\n",
       "    }\n",
       "</style>\n",
       "<table border=\"1\" class=\"dataframe\">\n",
       "  <thead>\n",
       "    <tr style=\"text-align: right;\">\n",
       "      <th></th>\n",
       "      <th>id</th>\n",
       "      <th>qid1</th>\n",
       "      <th>qid2</th>\n",
       "      <th>question1</th>\n",
       "      <th>question2</th>\n",
       "      <th>is_duplicate</th>\n",
       "    </tr>\n",
       "  </thead>\n",
       "  <tbody>\n",
       "    <tr>\n",
       "      <th>0</th>\n",
       "      <td>0</td>\n",
       "      <td>1</td>\n",
       "      <td>2</td>\n",
       "      <td>What is the step by step guide to invest in sh...</td>\n",
       "      <td>What is the step by step guide to invest in sh...</td>\n",
       "      <td>0</td>\n",
       "    </tr>\n",
       "    <tr>\n",
       "      <th>1</th>\n",
       "      <td>1</td>\n",
       "      <td>3</td>\n",
       "      <td>4</td>\n",
       "      <td>What is the story of Kohinoor (Koh-i-Noor) Dia...</td>\n",
       "      <td>What would happen if the Indian government sto...</td>\n",
       "      <td>0</td>\n",
       "    </tr>\n",
       "    <tr>\n",
       "      <th>2</th>\n",
       "      <td>2</td>\n",
       "      <td>5</td>\n",
       "      <td>6</td>\n",
       "      <td>How can I increase the speed of my internet co...</td>\n",
       "      <td>How can Internet speed be increased by hacking...</td>\n",
       "      <td>0</td>\n",
       "    </tr>\n",
       "    <tr>\n",
       "      <th>3</th>\n",
       "      <td>3</td>\n",
       "      <td>7</td>\n",
       "      <td>8</td>\n",
       "      <td>Why am I mentally very lonely? How can I solve...</td>\n",
       "      <td>Find the remainder when [math]23^{24}[/math] i...</td>\n",
       "      <td>0</td>\n",
       "    </tr>\n",
       "    <tr>\n",
       "      <th>4</th>\n",
       "      <td>4</td>\n",
       "      <td>9</td>\n",
       "      <td>10</td>\n",
       "      <td>Which one dissolve in water quikly sugar, salt...</td>\n",
       "      <td>Which fish would survive in salt water?</td>\n",
       "      <td>0</td>\n",
       "    </tr>\n",
       "    <tr>\n",
       "      <th>5</th>\n",
       "      <td>5</td>\n",
       "      <td>11</td>\n",
       "      <td>12</td>\n",
       "      <td>Astrology: I am a Capricorn Sun Cap moon and c...</td>\n",
       "      <td>I'm a triple Capricorn (Sun, Moon and ascendan...</td>\n",
       "      <td>1</td>\n",
       "    </tr>\n",
       "    <tr>\n",
       "      <th>6</th>\n",
       "      <td>6</td>\n",
       "      <td>13</td>\n",
       "      <td>14</td>\n",
       "      <td>Should I buy tiago?</td>\n",
       "      <td>What keeps childern active and far from phone ...</td>\n",
       "      <td>0</td>\n",
       "    </tr>\n",
       "    <tr>\n",
       "      <th>7</th>\n",
       "      <td>7</td>\n",
       "      <td>15</td>\n",
       "      <td>16</td>\n",
       "      <td>How can I be a good geologist?</td>\n",
       "      <td>What should I do to be a great geologist?</td>\n",
       "      <td>1</td>\n",
       "    </tr>\n",
       "    <tr>\n",
       "      <th>8</th>\n",
       "      <td>8</td>\n",
       "      <td>17</td>\n",
       "      <td>18</td>\n",
       "      <td>When do you use シ instead of し?</td>\n",
       "      <td>When do you use \"&amp;\" instead of \"and\"?</td>\n",
       "      <td>0</td>\n",
       "    </tr>\n",
       "    <tr>\n",
       "      <th>9</th>\n",
       "      <td>9</td>\n",
       "      <td>19</td>\n",
       "      <td>20</td>\n",
       "      <td>Motorola (company): Can I hack my Charter Moto...</td>\n",
       "      <td>How do I hack Motorola DCX3400 for free internet?</td>\n",
       "      <td>0</td>\n",
       "    </tr>\n",
       "  </tbody>\n",
       "</table>\n",
       "</div>"
      ],
      "text/plain": [
       "   id  qid1  qid2                                          question1  \\\n",
       "0   0     1     2  What is the step by step guide to invest in sh...   \n",
       "1   1     3     4  What is the story of Kohinoor (Koh-i-Noor) Dia...   \n",
       "2   2     5     6  How can I increase the speed of my internet co...   \n",
       "3   3     7     8  Why am I mentally very lonely? How can I solve...   \n",
       "4   4     9    10  Which one dissolve in water quikly sugar, salt...   \n",
       "5   5    11    12  Astrology: I am a Capricorn Sun Cap moon and c...   \n",
       "6   6    13    14                                Should I buy tiago?   \n",
       "7   7    15    16                     How can I be a good geologist?   \n",
       "8   8    17    18                    When do you use シ instead of し?   \n",
       "9   9    19    20  Motorola (company): Can I hack my Charter Moto...   \n",
       "\n",
       "                                           question2  is_duplicate  \n",
       "0  What is the step by step guide to invest in sh...             0  \n",
       "1  What would happen if the Indian government sto...             0  \n",
       "2  How can Internet speed be increased by hacking...             0  \n",
       "3  Find the remainder when [math]23^{24}[/math] i...             0  \n",
       "4            Which fish would survive in salt water?             0  \n",
       "5  I'm a triple Capricorn (Sun, Moon and ascendan...             1  \n",
       "6  What keeps childern active and far from phone ...             0  \n",
       "7          What should I do to be a great geologist?             1  \n",
       "8              When do you use \"&\" instead of \"and\"?             0  \n",
       "9  How do I hack Motorola DCX3400 for free internet?             0  "
      ]
     },
     "execution_count": 6,
     "metadata": {},
     "output_type": "execute_result"
    }
   ],
   "source": [
    "df.head(10)"
   ]
  },
  {
   "cell_type": "code",
   "execution_count": 7,
   "id": "e2d46782-c3fe-4efa-86c0-06cef68000d5",
   "metadata": {},
   "outputs": [
    {
     "name": "stdout",
     "output_type": "stream",
     "text": [
      "How can I be a good geologist?\n",
      "What should I do to be a great geologist?\n"
     ]
    }
   ],
   "source": [
    "print(df['question1'][7])\n",
    "print(df['question2'][7])\n"
   ]
  },
  {
   "cell_type": "code",
   "execution_count": 8,
   "id": "90f61a40-d52d-41c6-aef9-9f5ac7d20a34",
   "metadata": {},
   "outputs": [
    {
     "data": {
      "text/plain": [
       "id              0\n",
       "qid1            0\n",
       "qid2            0\n",
       "question1       1\n",
       "question2       2\n",
       "is_duplicate    0\n",
       "dtype: int64"
      ]
     },
     "execution_count": 8,
     "metadata": {},
     "output_type": "execute_result"
    }
   ],
   "source": [
    "# as there is a large dataset and 3 values does not maytter hence we are not removing\n",
    "df.isnull().sum()"
   ]
  },
  {
   "cell_type": "code",
   "execution_count": 9,
   "id": "7bf9f58e-e402-4e36-be86-ca195d89e91c",
   "metadata": {},
   "outputs": [
    {
     "data": {
      "text/plain": [
       "(404351, 6)"
      ]
     },
     "execution_count": 9,
     "metadata": {},
     "output_type": "execute_result"
    }
   ],
   "source": [
    "df.shape"
   ]
  },
  {
   "cell_type": "code",
   "execution_count": 10,
   "id": "d1933352-d0a3-4a33-91f0-0a3e6035a901",
   "metadata": {},
   "outputs": [
    {
     "data": {
      "text/html": [
       "<div>\n",
       "<style scoped>\n",
       "    .dataframe tbody tr th:only-of-type {\n",
       "        vertical-align: middle;\n",
       "    }\n",
       "\n",
       "    .dataframe tbody tr th {\n",
       "        vertical-align: top;\n",
       "    }\n",
       "\n",
       "    .dataframe thead th {\n",
       "        text-align: right;\n",
       "    }\n",
       "</style>\n",
       "<table border=\"1\" class=\"dataframe\">\n",
       "  <thead>\n",
       "    <tr style=\"text-align: right;\">\n",
       "      <th></th>\n",
       "      <th>id</th>\n",
       "      <th>qid1</th>\n",
       "      <th>qid2</th>\n",
       "      <th>question1</th>\n",
       "      <th>question2</th>\n",
       "      <th>is_duplicate</th>\n",
       "    </tr>\n",
       "  </thead>\n",
       "  <tbody>\n",
       "    <tr>\n",
       "      <th>358011</th>\n",
       "      <td>358011</td>\n",
       "      <td>701088</td>\n",
       "      <td>701089</td>\n",
       "      <td>What do after leaving the job?</td>\n",
       "      <td>What happens after you leave your well paying ...</td>\n",
       "      <td>1</td>\n",
       "    </tr>\n",
       "    <tr>\n",
       "      <th>37599</th>\n",
       "      <td>37599</td>\n",
       "      <td>74913</td>\n",
       "      <td>74914</td>\n",
       "      <td>White SEO: What is white label SEO?</td>\n",
       "      <td>Does Trello have a white-label option?</td>\n",
       "      <td>0</td>\n",
       "    </tr>\n",
       "    <tr>\n",
       "      <th>253951</th>\n",
       "      <td>253951</td>\n",
       "      <td>499896</td>\n",
       "      <td>499897</td>\n",
       "      <td>If civilization was subdivided into equally si...</td>\n",
       "      <td>What algorithm could be used to assign a speci...</td>\n",
       "      <td>0</td>\n",
       "    </tr>\n",
       "    <tr>\n",
       "      <th>120285</th>\n",
       "      <td>120285</td>\n",
       "      <td>238376</td>\n",
       "      <td>238377</td>\n",
       "      <td>What should I eat to gain weight?</td>\n",
       "      <td>How to gain weight ?</td>\n",
       "      <td>1</td>\n",
       "    </tr>\n",
       "    <tr>\n",
       "      <th>317445</th>\n",
       "      <td>317445</td>\n",
       "      <td>622898</td>\n",
       "      <td>622899</td>\n",
       "      <td>Hyperintensities in bilateral periventricular ...</td>\n",
       "      <td>How can white people who aren't in positions o...</td>\n",
       "      <td>0</td>\n",
       "    </tr>\n",
       "    <tr>\n",
       "      <th>250964</th>\n",
       "      <td>250964</td>\n",
       "      <td>494090</td>\n",
       "      <td>494091</td>\n",
       "      <td>Can coding make you smarter?</td>\n",
       "      <td>Can learning how to code make you smarter?</td>\n",
       "      <td>1</td>\n",
       "    </tr>\n",
       "    <tr>\n",
       "      <th>276737</th>\n",
       "      <td>276737</td>\n",
       "      <td>544114</td>\n",
       "      <td>396399</td>\n",
       "      <td>How many grams are in a pound of weed?</td>\n",
       "      <td>Why do people smoke pot/weed/marijuana/cannabis?</td>\n",
       "      <td>0</td>\n",
       "    </tr>\n",
       "    <tr>\n",
       "      <th>399996</th>\n",
       "      <td>399996</td>\n",
       "      <td>781461</td>\n",
       "      <td>781462</td>\n",
       "      <td>What's the best coffee?</td>\n",
       "      <td>Which is the best coffee?</td>\n",
       "      <td>1</td>\n",
       "    </tr>\n",
       "    <tr>\n",
       "      <th>249997</th>\n",
       "      <td>249997</td>\n",
       "      <td>492210</td>\n",
       "      <td>492211</td>\n",
       "      <td>Where do we get beef jerky or biltong in London?</td>\n",
       "      <td>Do Hindus get offended if I eat beef in India?</td>\n",
       "      <td>0</td>\n",
       "    </tr>\n",
       "    <tr>\n",
       "      <th>397567</th>\n",
       "      <td>397567</td>\n",
       "      <td>776825</td>\n",
       "      <td>776826</td>\n",
       "      <td>Why does the arm get sore after a tetanus shot?</td>\n",
       "      <td>How can I get an urgent care tetanus shot?</td>\n",
       "      <td>0</td>\n",
       "    </tr>\n",
       "    <tr>\n",
       "      <th>91261</th>\n",
       "      <td>91261</td>\n",
       "      <td>181196</td>\n",
       "      <td>181197</td>\n",
       "      <td>What are the benifits of msc with statistics, ...</td>\n",
       "      <td>Is there any icons like Martin Luther king, Ne...</td>\n",
       "      <td>0</td>\n",
       "    </tr>\n",
       "    <tr>\n",
       "      <th>18272</th>\n",
       "      <td>18272</td>\n",
       "      <td>36458</td>\n",
       "      <td>36459</td>\n",
       "      <td>What are some ways to make moving easier?</td>\n",
       "      <td>How can I make moving into storage easier?</td>\n",
       "      <td>0</td>\n",
       "    </tr>\n",
       "    <tr>\n",
       "      <th>398674</th>\n",
       "      <td>398674</td>\n",
       "      <td>778942</td>\n",
       "      <td>778943</td>\n",
       "      <td>What is a win-win strategy?</td>\n",
       "      <td>What are win-win strategies for the stock market?</td>\n",
       "      <td>0</td>\n",
       "    </tr>\n",
       "    <tr>\n",
       "      <th>17104</th>\n",
       "      <td>17104</td>\n",
       "      <td>34135</td>\n",
       "      <td>34136</td>\n",
       "      <td>• Do Indians lack civic sense? And how?</td>\n",
       "      <td>How do you tactfully tell a friend when she is...</td>\n",
       "      <td>0</td>\n",
       "    </tr>\n",
       "    <tr>\n",
       "      <th>218584</th>\n",
       "      <td>218584</td>\n",
       "      <td>430957</td>\n",
       "      <td>430958</td>\n",
       "      <td>How can I decide my future?</td>\n",
       "      <td>How can you decide what you have to do in future?</td>\n",
       "      <td>0</td>\n",
       "    </tr>\n",
       "  </tbody>\n",
       "</table>\n",
       "</div>"
      ],
      "text/plain": [
       "            id    qid1    qid2  \\\n",
       "358011  358011  701088  701089   \n",
       "37599    37599   74913   74914   \n",
       "253951  253951  499896  499897   \n",
       "120285  120285  238376  238377   \n",
       "317445  317445  622898  622899   \n",
       "250964  250964  494090  494091   \n",
       "276737  276737  544114  396399   \n",
       "399996  399996  781461  781462   \n",
       "249997  249997  492210  492211   \n",
       "397567  397567  776825  776826   \n",
       "91261    91261  181196  181197   \n",
       "18272    18272   36458   36459   \n",
       "398674  398674  778942  778943   \n",
       "17104    17104   34135   34136   \n",
       "218584  218584  430957  430958   \n",
       "\n",
       "                                                question1  \\\n",
       "358011                     What do after leaving the job?   \n",
       "37599                 White SEO: What is white label SEO?   \n",
       "253951  If civilization was subdivided into equally si...   \n",
       "120285                  What should I eat to gain weight?   \n",
       "317445  Hyperintensities in bilateral periventricular ...   \n",
       "250964                       Can coding make you smarter?   \n",
       "276737             How many grams are in a pound of weed?   \n",
       "399996                            What's the best coffee?   \n",
       "249997   Where do we get beef jerky or biltong in London?   \n",
       "397567    Why does the arm get sore after a tetanus shot?   \n",
       "91261   What are the benifits of msc with statistics, ...   \n",
       "18272           What are some ways to make moving easier?   \n",
       "398674                        What is a win-win strategy?   \n",
       "17104             • Do Indians lack civic sense? And how?   \n",
       "218584                        How can I decide my future?   \n",
       "\n",
       "                                                question2  is_duplicate  \n",
       "358011  What happens after you leave your well paying ...             1  \n",
       "37599              Does Trello have a white-label option?             0  \n",
       "253951  What algorithm could be used to assign a speci...             0  \n",
       "120285                               How to gain weight ?             1  \n",
       "317445  How can white people who aren't in positions o...             0  \n",
       "250964         Can learning how to code make you smarter?             1  \n",
       "276737   Why do people smoke pot/weed/marijuana/cannabis?             0  \n",
       "399996                          Which is the best coffee?             1  \n",
       "249997     Do Hindus get offended if I eat beef in India?             0  \n",
       "397567         How can I get an urgent care tetanus shot?             0  \n",
       "91261   Is there any icons like Martin Luther king, Ne...             0  \n",
       "18272          How can I make moving into storage easier?             0  \n",
       "398674  What are win-win strategies for the stock market?             0  \n",
       "17104   How do you tactfully tell a friend when she is...             0  \n",
       "218584  How can you decide what you have to do in future?             0  "
      ]
     },
     "execution_count": 10,
     "metadata": {},
     "output_type": "execute_result"
    }
   ],
   "source": [
    "df.sample(15)"
   ]
  },
  {
   "cell_type": "code",
   "execution_count": 11,
   "id": "11a74b31-f6a5-4aca-9667-fd3f7ecb49f4",
   "metadata": {},
   "outputs": [
    {
     "data": {
      "text/plain": [
       "0"
      ]
     },
     "execution_count": 11,
     "metadata": {},
     "output_type": "execute_result"
    }
   ],
   "source": [
    "df.duplicated().sum()"
   ]
  },
  {
   "cell_type": "code",
   "execution_count": 12,
   "id": "0e84519b-e436-45e2-9bc8-ee8a7aabe35e",
   "metadata": {},
   "outputs": [],
   "source": [
    "#  checking balancing \n",
    "# 0 means no and 1 means yes \n",
    "no , yes = df['is_duplicate'].value_counts()"
   ]
  },
  {
   "cell_type": "code",
   "execution_count": 13,
   "id": "344d8823-7129-4458-938f-7c2512d2095d",
   "metadata": {},
   "outputs": [
    {
     "name": "stdout",
     "output_type": "stream",
     "text": [
      "255045\n",
      "149306\n"
     ]
    }
   ],
   "source": [
    "print(no)\n",
    "print(yes)\n"
   ]
  },
  {
   "cell_type": "code",
   "execution_count": 14,
   "id": "51ab9724-fb43-4465-a195-e0146cc2df64",
   "metadata": {},
   "outputs": [],
   "source": [
    "p = (no/(no+yes))*100"
   ]
  },
  {
   "cell_type": "code",
   "execution_count": 15,
   "id": "e88c35a0-5771-4ab9-bb13-1620b9e7f2b9",
   "metadata": {},
   "outputs": [],
   "source": [
    "q = (1-p)*100"
   ]
  },
  {
   "cell_type": "code",
   "execution_count": 16,
   "id": "42125630-ce77-4113-89d9-3182fbeca3f4",
   "metadata": {},
   "outputs": [],
   "source": [
    "# percentage is  63 and 36 "
   ]
  },
  {
   "cell_type": "code",
   "execution_count": 17,
   "id": "0d502b5b-1fc1-4483-aa84-d48b65ccedc2",
   "metadata": {},
   "outputs": [],
   "source": [
    "import matplotlib.pyplot as plt "
   ]
  },
  {
   "cell_type": "code",
   "execution_count": 18,
   "id": "8888c730-85e7-4542-bf3b-d9294a5f45f8",
   "metadata": {},
   "outputs": [
    {
     "data": {
      "image/png": "[encoded data removed]",
      "text/plain": [
       "<Figure size 640x480 with 1 Axes>"
      ]
     },
     "metadata": {},
     "output_type": "display_data"
    }
   ],
   "source": [
    "l = ['no', 'yes']\n",
    "m = [63, 36]\n",
    "plt.bar(l,m)\n",
    "plt.show()"
   ]
  },
  {
   "cell_type": "code",
   "execution_count": 19,
   "id": "ea21ad3a-509c-4830-9aca-c1fcc5fd8b07",
   "metadata": {},
   "outputs": [],
   "source": [
    "# list is formed of question id \n",
    "all_id = pd.Series(df['qid1'].tolist()+df['qid2'].tolist())"
   ]
  },
  {
   "cell_type": "code",
   "execution_count": 20,
   "id": "c166898e-577f-4629-ad99-45795d9c5845",
   "metadata": {},
   "outputs": [
    {
     "data": {
      "text/plain": [
       "0              1\n",
       "1              3\n",
       "2              5\n",
       "3              7\n",
       "4              9\n",
       "           ...  \n",
       "808697    789793\n",
       "808698    789795\n",
       "808699    789797\n",
       "808700    789799\n",
       "808701    789801\n",
       "Length: 808702, dtype: int64"
      ]
     },
     "execution_count": 20,
     "metadata": {},
     "output_type": "execute_result"
    }
   ],
   "source": [
    "all_id"
   ]
  },
  {
   "cell_type": "code",
   "execution_count": 21,
   "id": "7e9e44e2-0e76-4346-9d46-0102d59a61a5",
   "metadata": {},
   "outputs": [],
   "source": [
    " ## here I found out the duplicated values \n",
    "repeat = all_id[all_id.duplicated()]"
   ]
  },
  {
   "cell_type": "code",
   "execution_count": 22,
   "id": "411bed2b-be95-45d7-9607-0dd2fd5bcec1",
   "metadata": {},
   "outputs": [
    {
     "data": {
      "text/plain": [
       "3258        1321\n",
       "5928       10024\n",
       "6355        8998\n",
       "8816       12118\n",
       "9582        4065\n",
       "           ...  \n",
       "808553    254908\n",
       "808557    381879\n",
       "808558    343683\n",
       "808561    136027\n",
       "808607    626050\n",
       "Length: 18901, dtype: int64"
      ]
     },
     "execution_count": 22,
     "metadata": {},
     "output_type": "execute_result"
    }
   ],
   "source": [
    "# as we formed a series hence it will be storing the same index as the all_id not the repeat \n",
    "# it show index at which place  the duplicated value occurs the repeat column id isn  3238 and the id is 1321 \n",
    "repeat"
   ]
  },
  {
   "cell_type": "code",
   "execution_count": 23,
   "id": "df74558e-c45c-4f30-a299-69a72fdaf5ee",
   "metadata": {},
   "outputs": [],
   "source": [
    "repeat_number = repeat.nunique()\n"
   ]
  },
  {
   "cell_type": "code",
   "execution_count": 24,
   "id": "4b15a4eb-3252-4ef1-b738-824fa673be67",
   "metadata": {},
   "outputs": [
    {
     "data": {
      "text/plain": [
       "13698"
      ]
     },
     "execution_count": 24,
     "metadata": {},
     "output_type": "execute_result"
    }
   ],
   "source": [
    "repeat_number"
   ]
  },
  {
   "cell_type": "code",
   "execution_count": 25,
   "id": "f4aa2636-42f5-4972-87e0-4f37b4c9bd71",
   "metadata": {},
   "outputs": [],
   "source": [
    "not_repeat_number = len(all_id)-repeat_number\n"
   ]
  },
  {
   "cell_type": "code",
   "execution_count": 26,
   "id": "4d793df1-9593-4e7b-bf59-03b1b41fe843",
   "metadata": {},
   "outputs": [
    {
     "data": {
      "text/plain": [
       "795004"
      ]
     },
     "execution_count": 26,
     "metadata": {},
     "output_type": "execute_result"
    }
   ],
   "source": [
    "not_repeat_number"
   ]
  },
  {
   "cell_type": "code",
   "execution_count": 27,
   "id": "8cd0fe83-2688-48b2-9033-9c9bfe9c05d9",
   "metadata": {},
   "outputs": [
    {
     "data": {
      "text/plain": [
       "<function matplotlib.pyplot.show(close=None, block=None)>"
      ]
     },
     "execution_count": 27,
     "metadata": {},
     "output_type": "execute_result"
    },
    {
     "data": {
      "image/png": "[encoded data removed]",
      "text/plain": [
       "<Figure size 640x480 with 1 Axes>"
      ]
     },
     "metadata": {},
     "output_type": "display_data"
    }
   ],
   "source": [
    "plt.hist(all_id.value_counts().values,bins=160)\n",
    "plt.yscale('log')\n",
    "plt.show"
   ]
  },
  {
   "cell_type": "code",
   "execution_count": 28,
   "id": "eeffed0c-2ceb-48f6-8c44-68c0686f076c",
   "metadata": {},
   "outputs": [],
   "source": [
    "## select some random rows on which you want to work \n",
    "new_df = df.sample(30000)"
   ]
  },
  {
   "cell_type": "code",
   "execution_count": 96,
   "id": "ce43c610-eb00-4238-bdd6-190707c90ca2",
   "metadata": {},
   "outputs": [
    {
     "data": {
      "text/html": [
       "<div>\n",
       "<style scoped>\n",
       "    .dataframe tbody tr th:only-of-type {\n",
       "        vertical-align: middle;\n",
       "    }\n",
       "\n",
       "    .dataframe tbody tr th {\n",
       "        vertical-align: top;\n",
       "    }\n",
       "\n",
       "    .dataframe thead th {\n",
       "        text-align: right;\n",
       "    }\n",
       "</style>\n",
       "<table border=\"1\" class=\"dataframe\">\n",
       "  <thead>\n",
       "    <tr style=\"text-align: right;\">\n",
       "      <th></th>\n",
       "      <th>id</th>\n",
       "      <th>qid1</th>\n",
       "      <th>qid2</th>\n",
       "      <th>question1</th>\n",
       "      <th>question2</th>\n",
       "      <th>is_duplicate</th>\n",
       "    </tr>\n",
       "  </thead>\n",
       "  <tbody>\n",
       "    <tr>\n",
       "      <th>302947</th>\n",
       "      <td>302947</td>\n",
       "      <td>594915</td>\n",
       "      <td>594916</td>\n",
       "      <td>What are the camera features to look at, other...</td>\n",
       "      <td>Do ultrafast spectroscopy techniques have to t...</td>\n",
       "      <td>0</td>\n",
       "    </tr>\n",
       "    <tr>\n",
       "      <th>363683</th>\n",
       "      <td>363683</td>\n",
       "      <td>711944</td>\n",
       "      <td>711945</td>\n",
       "      <td>How do I remotely break into my girlfriend's i...</td>\n",
       "      <td>How can I tell what privacy settings my girlfr...</td>\n",
       "      <td>0</td>\n",
       "    </tr>\n",
       "    <tr>\n",
       "      <th>337677</th>\n",
       "      <td>337677</td>\n",
       "      <td>662002</td>\n",
       "      <td>662003</td>\n",
       "      <td>How does circuit switching works?</td>\n",
       "      <td>Different types of materials?</td>\n",
       "      <td>0</td>\n",
       "    </tr>\n",
       "    <tr>\n",
       "      <th>336584</th>\n",
       "      <td>336584</td>\n",
       "      <td>659893</td>\n",
       "      <td>659894</td>\n",
       "      <td>What problems will be there in the future if I...</td>\n",
       "      <td>Should I drop a year for JEE advanced?</td>\n",
       "      <td>0</td>\n",
       "    </tr>\n",
       "    <tr>\n",
       "      <th>363628</th>\n",
       "      <td>363628</td>\n",
       "      <td>711840</td>\n",
       "      <td>711841</td>\n",
       "      <td>Why the universities in India are not at the t...</td>\n",
       "      <td>Do even the top universities in India deserve ...</td>\n",
       "      <td>1</td>\n",
       "    </tr>\n",
       "    <tr>\n",
       "      <th>...</th>\n",
       "      <td>...</td>\n",
       "      <td>...</td>\n",
       "      <td>...</td>\n",
       "      <td>...</td>\n",
       "      <td>...</td>\n",
       "      <td>...</td>\n",
       "    </tr>\n",
       "    <tr>\n",
       "      <th>318437</th>\n",
       "      <td>318437</td>\n",
       "      <td>624806</td>\n",
       "      <td>624807</td>\n",
       "      <td>What do you think of SC's order of playing nat...</td>\n",
       "      <td>What do you think of the supreme court order t...</td>\n",
       "      <td>1</td>\n",
       "    </tr>\n",
       "    <tr>\n",
       "      <th>136708</th>\n",
       "      <td>136708</td>\n",
       "      <td>270669</td>\n",
       "      <td>270670</td>\n",
       "      <td>How do I choose the proper profession?</td>\n",
       "      <td>How does an individual choose the right profes...</td>\n",
       "      <td>1</td>\n",
       "    </tr>\n",
       "    <tr>\n",
       "      <th>392896</th>\n",
       "      <td>392896</td>\n",
       "      <td>767883</td>\n",
       "      <td>767884</td>\n",
       "      <td>What are the criteria for gaining citizenship ...</td>\n",
       "      <td>What r the criteria of gettin citizenship in N...</td>\n",
       "      <td>1</td>\n",
       "    </tr>\n",
       "    <tr>\n",
       "      <th>33378</th>\n",
       "      <td>33378</td>\n",
       "      <td>66524</td>\n",
       "      <td>66525</td>\n",
       "      <td>Is prostitution legal in Saudi Arabia?</td>\n",
       "      <td>Does prostitution thrive in Saudi Arabia?</td>\n",
       "      <td>1</td>\n",
       "    </tr>\n",
       "    <tr>\n",
       "      <th>202259</th>\n",
       "      <td>202259</td>\n",
       "      <td>399092</td>\n",
       "      <td>399093</td>\n",
       "      <td>What is the salary of architects?</td>\n",
       "      <td>What would be the salary of an architect?</td>\n",
       "      <td>1</td>\n",
       "    </tr>\n",
       "  </tbody>\n",
       "</table>\n",
       "<p>30000 rows × 6 columns</p>\n",
       "</div>"
      ],
      "text/plain": [
       "            id    qid1    qid2  \\\n",
       "302947  302947  594915  594916   \n",
       "363683  363683  711944  711945   \n",
       "337677  337677  662002  662003   \n",
       "336584  336584  659893  659894   \n",
       "363628  363628  711840  711841   \n",
       "...        ...     ...     ...   \n",
       "318437  318437  624806  624807   \n",
       "136708  136708  270669  270670   \n",
       "392896  392896  767883  767884   \n",
       "33378    33378   66524   66525   \n",
       "202259  202259  399092  399093   \n",
       "\n",
       "                                                question1  \\\n",
       "302947  What are the camera features to look at, other...   \n",
       "363683  How do I remotely break into my girlfriend's i...   \n",
       "337677                  How does circuit switching works?   \n",
       "336584  What problems will be there in the future if I...   \n",
       "363628  Why the universities in India are not at the t...   \n",
       "...                                                   ...   \n",
       "318437  What do you think of SC's order of playing nat...   \n",
       "136708             How do I choose the proper profession?   \n",
       "392896  What are the criteria for gaining citizenship ...   \n",
       "33378              Is prostitution legal in Saudi Arabia?   \n",
       "202259                  What is the salary of architects?   \n",
       "\n",
       "                                                question2  is_duplicate  \n",
       "302947  Do ultrafast spectroscopy techniques have to t...             0  \n",
       "363683  How can I tell what privacy settings my girlfr...             0  \n",
       "337677                      Different types of materials?             0  \n",
       "336584             Should I drop a year for JEE advanced?             0  \n",
       "363628  Do even the top universities in India deserve ...             1  \n",
       "...                                                   ...           ...  \n",
       "318437  What do you think of the supreme court order t...             1  \n",
       "136708  How does an individual choose the right profes...             1  \n",
       "392896  What r the criteria of gettin citizenship in N...             1  \n",
       "33378           Does prostitution thrive in Saudi Arabia?             1  \n",
       "202259          What would be the salary of an architect?             1  \n",
       "\n",
       "[30000 rows x 6 columns]"
      ]
     },
     "execution_count": 96,
     "metadata": {},
     "output_type": "execute_result"
    }
   ],
   "source": [
    "new_df"
   ]
  },
  {
   "cell_type": "code",
   "execution_count": 31,
   "id": "4301655e-605d-4917-94d4-32af7350a7be",
   "metadata": {},
   "outputs": [
    {
     "data": {
      "text/plain": [
       "id              0\n",
       "qid1            0\n",
       "qid2            0\n",
       "question1       0\n",
       "question2       0\n",
       "is_duplicate    0\n",
       "dtype: int64"
      ]
     },
     "execution_count": 31,
     "metadata": {},
     "output_type": "execute_result"
    }
   ],
   "source": [
    " new_df.isnull().sum()"
   ]
  },
  {
   "cell_type": "code",
   "execution_count": 37,
   "id": "58d816e1-3085-424d-9668-22953db58227",
   "metadata": {},
   "outputs": [],
   "source": [
    "# new dataframe that only have question not thier ids \n",
    "que_df= new_df[['question1' ,'question2']]"
   ]
  },
  {
   "cell_type": "code",
   "execution_count": 38,
   "id": "9d630f2f-b45d-42d7-b940-5a0e3ac3ad1e",
   "metadata": {},
   "outputs": [
    {
     "data": {
      "text/html": [
       "<div>\n",
       "<style scoped>\n",
       "    .dataframe tbody tr th:only-of-type {\n",
       "        vertical-align: middle;\n",
       "    }\n",
       "\n",
       "    .dataframe tbody tr th {\n",
       "        vertical-align: top;\n",
       "    }\n",
       "\n",
       "    .dataframe thead th {\n",
       "        text-align: right;\n",
       "    }\n",
       "</style>\n",
       "<table border=\"1\" class=\"dataframe\">\n",
       "  <thead>\n",
       "    <tr style=\"text-align: right;\">\n",
       "      <th></th>\n",
       "      <th>question1</th>\n",
       "      <th>question2</th>\n",
       "    </tr>\n",
       "  </thead>\n",
       "  <tbody>\n",
       "    <tr>\n",
       "      <th>302947</th>\n",
       "      <td>What are the camera features to look at, other...</td>\n",
       "      <td>Do ultrafast spectroscopy techniques have to t...</td>\n",
       "    </tr>\n",
       "    <tr>\n",
       "      <th>363683</th>\n",
       "      <td>How do I remotely break into my girlfriend's i...</td>\n",
       "      <td>How can I tell what privacy settings my girlfr...</td>\n",
       "    </tr>\n",
       "    <tr>\n",
       "      <th>337677</th>\n",
       "      <td>How does circuit switching works?</td>\n",
       "      <td>Different types of materials?</td>\n",
       "    </tr>\n",
       "    <tr>\n",
       "      <th>336584</th>\n",
       "      <td>What problems will be there in the future if I...</td>\n",
       "      <td>Should I drop a year for JEE advanced?</td>\n",
       "    </tr>\n",
       "    <tr>\n",
       "      <th>363628</th>\n",
       "      <td>Why the universities in India are not at the t...</td>\n",
       "      <td>Do even the top universities in India deserve ...</td>\n",
       "    </tr>\n",
       "    <tr>\n",
       "      <th>...</th>\n",
       "      <td>...</td>\n",
       "      <td>...</td>\n",
       "    </tr>\n",
       "    <tr>\n",
       "      <th>318437</th>\n",
       "      <td>What do you think of SC's order of playing nat...</td>\n",
       "      <td>What do you think of the supreme court order t...</td>\n",
       "    </tr>\n",
       "    <tr>\n",
       "      <th>136708</th>\n",
       "      <td>How do I choose the proper profession?</td>\n",
       "      <td>How does an individual choose the right profes...</td>\n",
       "    </tr>\n",
       "    <tr>\n",
       "      <th>392896</th>\n",
       "      <td>What are the criteria for gaining citizenship ...</td>\n",
       "      <td>What r the criteria of gettin citizenship in N...</td>\n",
       "    </tr>\n",
       "    <tr>\n",
       "      <th>33378</th>\n",
       "      <td>Is prostitution legal in Saudi Arabia?</td>\n",
       "      <td>Does prostitution thrive in Saudi Arabia?</td>\n",
       "    </tr>\n",
       "    <tr>\n",
       "      <th>202259</th>\n",
       "      <td>What is the salary of architects?</td>\n",
       "      <td>What would be the salary of an architect?</td>\n",
       "    </tr>\n",
       "  </tbody>\n",
       "</table>\n",
       "<p>30000 rows × 2 columns</p>\n",
       "</div>"
      ],
      "text/plain": [
       "                                                question1  \\\n",
       "302947  What are the camera features to look at, other...   \n",
       "363683  How do I remotely break into my girlfriend's i...   \n",
       "337677                  How does circuit switching works?   \n",
       "336584  What problems will be there in the future if I...   \n",
       "363628  Why the universities in India are not at the t...   \n",
       "...                                                   ...   \n",
       "318437  What do you think of SC's order of playing nat...   \n",
       "136708             How do I choose the proper profession?   \n",
       "392896  What are the criteria for gaining citizenship ...   \n",
       "33378              Is prostitution legal in Saudi Arabia?   \n",
       "202259                  What is the salary of architects?   \n",
       "\n",
       "                                                question2  \n",
       "302947  Do ultrafast spectroscopy techniques have to t...  \n",
       "363683  How can I tell what privacy settings my girlfr...  \n",
       "337677                      Different types of materials?  \n",
       "336584             Should I drop a year for JEE advanced?  \n",
       "363628  Do even the top universities in India deserve ...  \n",
       "...                                                   ...  \n",
       "318437  What do you think of the supreme court order t...  \n",
       "136708  How does an individual choose the right profes...  \n",
       "392896  What r the criteria of gettin citizenship in N...  \n",
       "33378           Does prostitution thrive in Saudi Arabia?  \n",
       "202259          What would be the salary of an architect?  \n",
       "\n",
       "[30000 rows x 2 columns]"
      ]
     },
     "execution_count": 38,
     "metadata": {},
     "output_type": "execute_result"
    }
   ],
   "source": [
    "que_df"
   ]
  },
  {
   "cell_type": "code",
   "execution_count": 53,
   "id": "26e97ca5-cb24-4cd1-a9a6-00f9bf59f21c",
   "metadata": {},
   "outputs": [],
   "source": [
    "from sklearn.feature_extraction.text import CountVectorizer\n",
    "cv = CountVectorizer(max_features=3000)\n",
    "que1= cv.fit_transform(que_df['question1'])\n",
    "que2= cv.fit_transform(que_df['question2'])"
   ]
  },
  {
   "cell_type": "code",
   "execution_count": 69,
   "id": "6dd2e703-acb8-44be-abb3-75fd8dbccf10",
   "metadata": {},
   "outputs": [
    {
     "data": {
      "text/plain": [
       "(30000, 3000)"
      ]
     },
     "execution_count": 69,
     "metadata": {},
     "output_type": "execute_result"
    }
   ],
   "source": [
    "que1.shape\n",
    "# these are sparse matrix"
   ]
  },
  {
   "cell_type": "code",
   "execution_count": 77,
   "id": "717b92fa-195f-4c74-a821-7f35e9ec08e0",
   "metadata": {},
   "outputs": [
    {
     "data": {
      "text/plain": [
       "(30000, 3000)"
      ]
     },
     "execution_count": 77,
     "metadata": {},
     "output_type": "execute_result"
    }
   ],
   "source": [
    "que2.shape\n",
    "# numpy does not direclty hold saprse hence use scipy "
   ]
  },
  {
   "cell_type": "code",
   "execution_count": 78,
   "id": "3111bde8-f152-444d-b77d-5c20c87ff221",
   "metadata": {},
   "outputs": [
    {
     "data": {
      "text/plain": [
       "(30000, 6000)"
      ]
     },
     "execution_count": 78,
     "metadata": {},
     "output_type": "execute_result"
    }
   ],
   "source": [
    "from scipy.sparse import hstack\n",
    "temp= hstack([que1, que2])\n",
    "temp.shape\n",
    "# but you need to work woth a datatframe"
   ]
  },
  {
   "cell_type": "code",
   "execution_count": 82,
   "id": "ad22c4cc-331e-45f1-be1f-80146bdd7d2c",
   "metadata": {},
   "outputs": [
    {
     "data": {
      "text/plain": [
       "(30000, 6000)"
      ]
     },
     "execution_count": 82,
     "metadata": {},
     "output_type": "execute_result"
    }
   ],
   "source": [
    "import pandas as pd \n",
    "df_1= pd.DataFrame(que1.toarray())\n",
    "df_2= pd.DataFrame(que2.toarray())\n",
    "combined= pd.concat([df_1,df_2], axis=1 )\n",
    "combined.shape"
   ]
  },
  {
   "cell_type": "code",
   "execution_count": 87,
   "id": "92976291-4e6d-4179-b014-26c30ee363c6",
   "metadata": {},
   "outputs": [
    {
     "data": {
      "text/html": [
       "<div>\n",
       "<style scoped>\n",
       "    .dataframe tbody tr th:only-of-type {\n",
       "        vertical-align: middle;\n",
       "    }\n",
       "\n",
       "    .dataframe tbody tr th {\n",
       "        vertical-align: top;\n",
       "    }\n",
       "\n",
       "    .dataframe thead th {\n",
       "        text-align: right;\n",
       "    }\n",
       "</style>\n",
       "<table border=\"1\" class=\"dataframe\">\n",
       "  <thead>\n",
       "    <tr style=\"text-align: right;\">\n",
       "      <th></th>\n",
       "      <th>0</th>\n",
       "      <th>1</th>\n",
       "      <th>2</th>\n",
       "      <th>3</th>\n",
       "      <th>4</th>\n",
       "      <th>5</th>\n",
       "      <th>6</th>\n",
       "      <th>7</th>\n",
       "      <th>8</th>\n",
       "      <th>9</th>\n",
       "      <th>...</th>\n",
       "      <th>2990</th>\n",
       "      <th>2991</th>\n",
       "      <th>2992</th>\n",
       "      <th>2993</th>\n",
       "      <th>2994</th>\n",
       "      <th>2995</th>\n",
       "      <th>2996</th>\n",
       "      <th>2997</th>\n",
       "      <th>2998</th>\n",
       "      <th>2999</th>\n",
       "    </tr>\n",
       "  </thead>\n",
       "  <tbody>\n",
       "    <tr>\n",
       "      <th>8184</th>\n",
       "      <td>0</td>\n",
       "      <td>0</td>\n",
       "      <td>0</td>\n",
       "      <td>0</td>\n",
       "      <td>0</td>\n",
       "      <td>0</td>\n",
       "      <td>0</td>\n",
       "      <td>0</td>\n",
       "      <td>0</td>\n",
       "      <td>0</td>\n",
       "      <td>...</td>\n",
       "      <td>0</td>\n",
       "      <td>1</td>\n",
       "      <td>0</td>\n",
       "      <td>0</td>\n",
       "      <td>0</td>\n",
       "      <td>0</td>\n",
       "      <td>0</td>\n",
       "      <td>0</td>\n",
       "      <td>0</td>\n",
       "      <td>0</td>\n",
       "    </tr>\n",
       "    <tr>\n",
       "      <th>7386</th>\n",
       "      <td>0</td>\n",
       "      <td>0</td>\n",
       "      <td>0</td>\n",
       "      <td>0</td>\n",
       "      <td>0</td>\n",
       "      <td>0</td>\n",
       "      <td>0</td>\n",
       "      <td>0</td>\n",
       "      <td>0</td>\n",
       "      <td>0</td>\n",
       "      <td>...</td>\n",
       "      <td>0</td>\n",
       "      <td>1</td>\n",
       "      <td>0</td>\n",
       "      <td>0</td>\n",
       "      <td>0</td>\n",
       "      <td>0</td>\n",
       "      <td>0</td>\n",
       "      <td>0</td>\n",
       "      <td>0</td>\n",
       "      <td>0</td>\n",
       "    </tr>\n",
       "    <tr>\n",
       "      <th>15948</th>\n",
       "      <td>0</td>\n",
       "      <td>0</td>\n",
       "      <td>0</td>\n",
       "      <td>0</td>\n",
       "      <td>0</td>\n",
       "      <td>0</td>\n",
       "      <td>0</td>\n",
       "      <td>0</td>\n",
       "      <td>0</td>\n",
       "      <td>0</td>\n",
       "      <td>...</td>\n",
       "      <td>0</td>\n",
       "      <td>0</td>\n",
       "      <td>0</td>\n",
       "      <td>0</td>\n",
       "      <td>0</td>\n",
       "      <td>0</td>\n",
       "      <td>0</td>\n",
       "      <td>0</td>\n",
       "      <td>0</td>\n",
       "      <td>0</td>\n",
       "    </tr>\n",
       "    <tr>\n",
       "      <th>26328</th>\n",
       "      <td>0</td>\n",
       "      <td>0</td>\n",
       "      <td>0</td>\n",
       "      <td>0</td>\n",
       "      <td>0</td>\n",
       "      <td>0</td>\n",
       "      <td>0</td>\n",
       "      <td>0</td>\n",
       "      <td>0</td>\n",
       "      <td>0</td>\n",
       "      <td>...</td>\n",
       "      <td>0</td>\n",
       "      <td>0</td>\n",
       "      <td>0</td>\n",
       "      <td>0</td>\n",
       "      <td>0</td>\n",
       "      <td>0</td>\n",
       "      <td>0</td>\n",
       "      <td>0</td>\n",
       "      <td>0</td>\n",
       "      <td>0</td>\n",
       "    </tr>\n",
       "    <tr>\n",
       "      <th>25866</th>\n",
       "      <td>0</td>\n",
       "      <td>0</td>\n",
       "      <td>0</td>\n",
       "      <td>0</td>\n",
       "      <td>0</td>\n",
       "      <td>0</td>\n",
       "      <td>0</td>\n",
       "      <td>0</td>\n",
       "      <td>0</td>\n",
       "      <td>0</td>\n",
       "      <td>...</td>\n",
       "      <td>0</td>\n",
       "      <td>2</td>\n",
       "      <td>0</td>\n",
       "      <td>0</td>\n",
       "      <td>0</td>\n",
       "      <td>0</td>\n",
       "      <td>0</td>\n",
       "      <td>0</td>\n",
       "      <td>0</td>\n",
       "      <td>0</td>\n",
       "    </tr>\n",
       "    <tr>\n",
       "      <th>...</th>\n",
       "      <td>...</td>\n",
       "      <td>...</td>\n",
       "      <td>...</td>\n",
       "      <td>...</td>\n",
       "      <td>...</td>\n",
       "      <td>...</td>\n",
       "      <td>...</td>\n",
       "      <td>...</td>\n",
       "      <td>...</td>\n",
       "      <td>...</td>\n",
       "      <td>...</td>\n",
       "      <td>...</td>\n",
       "      <td>...</td>\n",
       "      <td>...</td>\n",
       "      <td>...</td>\n",
       "      <td>...</td>\n",
       "      <td>...</td>\n",
       "      <td>...</td>\n",
       "      <td>...</td>\n",
       "      <td>...</td>\n",
       "      <td>...</td>\n",
       "    </tr>\n",
       "    <tr>\n",
       "      <th>24858</th>\n",
       "      <td>0</td>\n",
       "      <td>0</td>\n",
       "      <td>0</td>\n",
       "      <td>0</td>\n",
       "      <td>0</td>\n",
       "      <td>0</td>\n",
       "      <td>0</td>\n",
       "      <td>0</td>\n",
       "      <td>0</td>\n",
       "      <td>0</td>\n",
       "      <td>...</td>\n",
       "      <td>0</td>\n",
       "      <td>1</td>\n",
       "      <td>0</td>\n",
       "      <td>0</td>\n",
       "      <td>1</td>\n",
       "      <td>0</td>\n",
       "      <td>0</td>\n",
       "      <td>0</td>\n",
       "      <td>0</td>\n",
       "      <td>0</td>\n",
       "    </tr>\n",
       "    <tr>\n",
       "      <th>14522</th>\n",
       "      <td>0</td>\n",
       "      <td>0</td>\n",
       "      <td>0</td>\n",
       "      <td>0</td>\n",
       "      <td>0</td>\n",
       "      <td>0</td>\n",
       "      <td>0</td>\n",
       "      <td>0</td>\n",
       "      <td>0</td>\n",
       "      <td>0</td>\n",
       "      <td>...</td>\n",
       "      <td>0</td>\n",
       "      <td>0</td>\n",
       "      <td>0</td>\n",
       "      <td>0</td>\n",
       "      <td>0</td>\n",
       "      <td>0</td>\n",
       "      <td>0</td>\n",
       "      <td>0</td>\n",
       "      <td>0</td>\n",
       "      <td>0</td>\n",
       "    </tr>\n",
       "    <tr>\n",
       "      <th>7887</th>\n",
       "      <td>0</td>\n",
       "      <td>0</td>\n",
       "      <td>0</td>\n",
       "      <td>0</td>\n",
       "      <td>0</td>\n",
       "      <td>0</td>\n",
       "      <td>0</td>\n",
       "      <td>0</td>\n",
       "      <td>0</td>\n",
       "      <td>0</td>\n",
       "      <td>...</td>\n",
       "      <td>0</td>\n",
       "      <td>0</td>\n",
       "      <td>0</td>\n",
       "      <td>0</td>\n",
       "      <td>0</td>\n",
       "      <td>0</td>\n",
       "      <td>0</td>\n",
       "      <td>0</td>\n",
       "      <td>0</td>\n",
       "      <td>0</td>\n",
       "    </tr>\n",
       "    <tr>\n",
       "      <th>9850</th>\n",
       "      <td>0</td>\n",
       "      <td>0</td>\n",
       "      <td>0</td>\n",
       "      <td>0</td>\n",
       "      <td>0</td>\n",
       "      <td>0</td>\n",
       "      <td>0</td>\n",
       "      <td>0</td>\n",
       "      <td>0</td>\n",
       "      <td>0</td>\n",
       "      <td>...</td>\n",
       "      <td>0</td>\n",
       "      <td>1</td>\n",
       "      <td>0</td>\n",
       "      <td>0</td>\n",
       "      <td>0</td>\n",
       "      <td>0</td>\n",
       "      <td>0</td>\n",
       "      <td>0</td>\n",
       "      <td>0</td>\n",
       "      <td>0</td>\n",
       "    </tr>\n",
       "    <tr>\n",
       "      <th>14551</th>\n",
       "      <td>0</td>\n",
       "      <td>0</td>\n",
       "      <td>0</td>\n",
       "      <td>0</td>\n",
       "      <td>0</td>\n",
       "      <td>0</td>\n",
       "      <td>0</td>\n",
       "      <td>0</td>\n",
       "      <td>0</td>\n",
       "      <td>0</td>\n",
       "      <td>...</td>\n",
       "      <td>0</td>\n",
       "      <td>0</td>\n",
       "      <td>0</td>\n",
       "      <td>0</td>\n",
       "      <td>0</td>\n",
       "      <td>0</td>\n",
       "      <td>0</td>\n",
       "      <td>0</td>\n",
       "      <td>0</td>\n",
       "      <td>0</td>\n",
       "    </tr>\n",
       "  </tbody>\n",
       "</table>\n",
       "<p>100 rows × 6000 columns</p>\n",
       "</div>"
      ],
      "text/plain": [
       "       0     1     2     3     4     5     6     7     8     9     ...  2990  \\\n",
       "8184      0     0     0     0     0     0     0     0     0     0  ...     0   \n",
       "7386      0     0     0     0     0     0     0     0     0     0  ...     0   \n",
       "15948     0     0     0     0     0     0     0     0     0     0  ...     0   \n",
       "26328     0     0     0     0     0     0     0     0     0     0  ...     0   \n",
       "25866     0     0     0     0     0     0     0     0     0     0  ...     0   \n",
       "...     ...   ...   ...   ...   ...   ...   ...   ...   ...   ...  ...   ...   \n",
       "24858     0     0     0     0     0     0     0     0     0     0  ...     0   \n",
       "14522     0     0     0     0     0     0     0     0     0     0  ...     0   \n",
       "7887      0     0     0     0     0     0     0     0     0     0  ...     0   \n",
       "9850      0     0     0     0     0     0     0     0     0     0  ...     0   \n",
       "14551     0     0     0     0     0     0     0     0     0     0  ...     0   \n",
       "\n",
       "       2991  2992  2993  2994  2995  2996  2997  2998  2999  \n",
       "8184      1     0     0     0     0     0     0     0     0  \n",
       "7386      1     0     0     0     0     0     0     0     0  \n",
       "15948     0     0     0     0     0     0     0     0     0  \n",
       "26328     0     0     0     0     0     0     0     0     0  \n",
       "25866     2     0     0     0     0     0     0     0     0  \n",
       "...     ...   ...   ...   ...   ...   ...   ...   ...   ...  \n",
       "24858     1     0     0     1     0     0     0     0     0  \n",
       "14522     0     0     0     0     0     0     0     0     0  \n",
       "7887      0     0     0     0     0     0     0     0     0  \n",
       "9850      1     0     0     0     0     0     0     0     0  \n",
       "14551     0     0     0     0     0     0     0     0     0  \n",
       "\n",
       "[100 rows x 6000 columns]"
      ]
     },
     "execution_count": 87,
     "metadata": {},
     "output_type": "execute_result"
    }
   ],
   "source": [
    "combined.sample(100)\n",
    "\n"
   ]
  },
  {
   "cell_type": "code",
   "execution_count": 111,
   "id": "37c18f08-5d65-4497-a5eb-b3843d4ed125",
   "metadata": {},
   "outputs": [],
   "source": [
    "combined= combined.reset_index(drop= True)\n",
    "new_df= new_df.reset_index(drop= True)"
   ]
  },
  {
   "cell_type": "code",
   "execution_count": 112,
   "id": "73c25b30-4f2b-4040-8cf3-83ef86941d01",
   "metadata": {},
   "outputs": [],
   "source": [
    "combined['is_duplicate']= new_df['is_duplicate']"
   ]
  },
  {
   "cell_type": "code",
   "execution_count": 113,
   "id": "9ef26b96-de01-4ceb-baa8-7b939a7290eb",
   "metadata": {},
   "outputs": [
    {
     "data": {
      "text/plain": [
       "0               0\n",
       "1               0\n",
       "2               0\n",
       "3               0\n",
       "4               0\n",
       "               ..\n",
       "2996            0\n",
       "2997            0\n",
       "2998            0\n",
       "2999            0\n",
       "is_duplicate    0\n",
       "Length: 6001, dtype: int64"
      ]
     },
     "execution_count": 113,
     "metadata": {},
     "output_type": "execute_result"
    }
   ],
   "source": [
    "combined.isnull().sum()"
   ]
  },
  {
   "cell_type": "code",
   "execution_count": 114,
   "id": "7234fb28-e7b9-4b79-a8ee-8cd1f7586d9b",
   "metadata": {},
   "outputs": [
    {
     "data": {
      "text/plain": [
       "0"
      ]
     },
     "execution_count": 114,
     "metadata": {},
     "output_type": "execute_result"
    }
   ],
   "source": [
    "new_df['is_duplicate'].isnull().sum()"
   ]
  },
  {
   "cell_type": "code",
   "execution_count": 115,
   "id": "01946a84-ba5e-4848-8750-3d49d4937638",
   "metadata": {},
   "outputs": [
    {
     "data": {
      "text/plain": [
       "0"
      ]
     },
     "execution_count": 115,
     "metadata": {},
     "output_type": "execute_result"
    }
   ],
   "source": [
    "combined['is_duplicate'].isnull().sum()"
   ]
  },
  {
   "cell_type": "code",
   "execution_count": 117,
   "id": "157addcb-0030-4f63-8475-847b21d90d09",
   "metadata": {},
   "outputs": [
    {
     "name": "stdout",
     "output_type": "stream",
     "text": [
      "       0     1     2     3     4     5     6     7     8     9     ...  2990  \\\n",
      "0         0     0     0     0     0     0     0     0     0     0  ...     0   \n",
      "1         0     0     0     0     0     0     0     0     0     0  ...     0   \n",
      "2         0     0     0     0     0     0     0     0     0     0  ...     0   \n",
      "3         0     0     0     0     0     0     0     0     0     0  ...     0   \n",
      "4         0     0     0     0     0     0     0     0     0     0  ...     0   \n",
      "...     ...   ...   ...   ...   ...   ...   ...   ...   ...   ...  ...   ...   \n",
      "29995     0     0     0     0     0     0     0     0     0     0  ...     0   \n",
      "29996     0     0     0     0     0     0     0     0     0     0  ...     0   \n",
      "29997     0     0     0     0     0     0     0     0     0     0  ...     0   \n",
      "29998     0     0     0     0     0     0     0     0     0     0  ...     0   \n",
      "29999     0     0     0     0     0     0     0     0     0     0  ...     0   \n",
      "\n",
      "       2991  2992  2993  2994  2995  2996  2997  2998  2999  \n",
      "0         0     0     0     0     0     0     0     0     0  \n",
      "1         0     0     0     0     0     0     0     0     0  \n",
      "2         0     0     0     0     0     0     0     0     0  \n",
      "3         0     0     0     0     0     0     0     0     0  \n",
      "4         0     0     0     0     0     0     0     0     0  \n",
      "...     ...   ...   ...   ...   ...   ...   ...   ...   ...  \n",
      "29995     1     0     0     0     0     0     0     0     0  \n",
      "29996     0     0     0     0     0     0     0     0     0  \n",
      "29997     0     0     0     0     0     0     0     0     0  \n",
      "29998     0     0     0     0     0     0     0     0     0  \n",
      "29999     0     0     0     0     0     0     0     0     0  \n",
      "\n",
      "[30000 rows x 6000 columns]\n",
      "0        0\n",
      "1        0\n",
      "2        0\n",
      "3        0\n",
      "4        1\n",
      "        ..\n",
      "29995    1\n",
      "29996    1\n",
      "29997    1\n",
      "29998    1\n",
      "29999    1\n",
      "Name: is_duplicate, Length: 30000, dtype: int64\n"
     ]
    }
   ],
   "source": [
    "X= combined.drop('is_duplicate' , axis= 1)\n",
    "y= combined['is_duplicate']\n",
    "print(X)\n",
    "print(y)"
   ]
  },
  {
   "cell_type": "code",
   "execution_count": 119,
   "id": "895c0603-38fc-4191-8155-1f9091eb6731",
   "metadata": {},
   "outputs": [],
   "source": [
    "from sklearn.model_selection import train_test_split\n",
    "X_train, X_test,Y_train, Y_test = train_test_split(X, y, test_size= 0.2, random_state= 42)"
   ]
  },
  {
   "cell_type": "code",
   "execution_count": 127,
   "id": "10052539-1a71-4573-b290-3acba89ce4db",
   "metadata": {},
   "outputs": [],
   "source": [
    "from sklearn.ensemble import RandomForestClassifier\n",
    "model= RandomForestClassifier(n_estimators= 200  , random_state= 42)\n",
    "model.fit(X_train, Y_train)\n",
    "y_pred = model.predict(X_test)\n"
   ]
  },
  {
   "cell_type": "code",
   "execution_count": 128,
   "id": "e32ac65d-8a64-4a4a-b321-9c499c882d35",
   "metadata": {},
   "outputs": [
    {
     "name": "stdout",
     "output_type": "stream",
     "text": [
      "0.739\n"
     ]
    }
   ],
   "source": [
    "from sklearn.metrics import accuracy_score\n",
    "print(accuracy_score(Y_test, y_pred))"
   ]
  },
  {
   "cell_type": "code",
   "execution_count": 131,
   "id": "da0ce4fb-5845-46e7-9951-e7ef612b7ac1",
   "metadata": {},
   "outputs": [
    {
     "name": "stdout",
     "output_type": "stream",
     "text": [
      "0.7003333333333334\n"
     ]
    }
   ],
   "source": [
    "from sklearn.linear_model import LogisticRegression\n",
    "model = LogisticRegression(max_iter=2000, random_state=42)\n",
    "model.fit(X_train , Y_train)\n",
    "y_pred=  model.predict(X_test)\n",
    "print(accuracy_score(Y_test, y_pred))"
   ]
  },
  {
   "cell_type": "code",
   "execution_count": 132,
   "id": "2637148f-5e10-43f0-b5aa-45642cdf74b2",
   "metadata": {},
   "outputs": [
    {
     "name": "stdout",
     "output_type": "stream",
     "text": [
      "Requirement already satisfied: xgboost in c:\\users\\purni\\appdata\\local\\programs\\python\\python39\\lib\\site-packages (2.1.3)\n",
      "Requirement already satisfied: numpy in c:\\users\\purni\\appdata\\local\\programs\\python\\python39\\lib\\site-packages (from xgboost) (1.26.4)\n",
      "Requirement already satisfied: scipy in c:\\users\\purni\\appdata\\local\\programs\\python\\python39\\lib\\site-packages (from xgboost) (1.13.1)\n",
      "Note: you may need to restart the kernel to use updated packages.\n"
     ]
    },
    {
     "name": "stderr",
     "output_type": "stream",
     "text": [
      "\n",
      "[notice] A new release of pip is available: 25.0.1 -> 25.1.1\n",
      "[notice] To update, run: python.exe -m pip install --upgrade pip\n"
     ]
    }
   ],
   "source": [
    "pip install xgboost \n"
   ]
  },
  {
   "cell_type": "code",
   "execution_count": 133,
   "id": "f699499c-88f7-4312-9f36-a36e383b082a",
   "metadata": {},
   "outputs": [],
   "source": [
    "from xgboost import XGBClassifier\n",
    "from sklearn.metrics import accuracy_score"
   ]
  },
  {
   "cell_type": "code",
   "execution_count": 157,
   "id": "a1de4aa0-e350-409a-86d7-5a10bd699cea",
   "metadata": {},
   "outputs": [
    {
     "name": "stderr",
     "output_type": "stream",
     "text": [
      "C:\\Users\\purni\\AppData\\Local\\Programs\\Python\\Python39\\lib\\site-packages\\xgboost\\core.py:158: UserWarning: [12:53:03] WARNING: C:\\buildkite-agent\\builds\\buildkite-windows-cpu-autoscaling-group-i-0c55ff5f71b100e98-1\\xgboost\\xgboost-ci-windows\\src\\learner.cc:740: \n",
      "Parameters: { \"use_label_encoder\" } are not used.\n",
      "\n",
      "  warnings.warn(smsg, UserWarning)\n"
     ]
    },
    {
     "name": "stdout",
     "output_type": "stream",
     "text": [
      "Accuracy: 0.7255\n"
     ]
    }
   ],
   "source": [
    "\n",
    "X_train_np = X_train.values if isinstance(X_train, pd.DataFrame) else X_train\n",
    "X_test_np = X_test.values if isinstance(X_test, pd.DataFrame) else X_test\n",
    "y_train_np = Y_train.values if isinstance(Y_train, pd.Series) else Y_train\n",
    "y_test_np = Y_test.values if isinstance(Y_test, pd.Series) else Y_test\n",
    "\n",
    "model = XGBClassifier(eval_metric='logloss', use_label_encoder=False, random_state=42)\n",
    "model.fit(X_train_np, y_train_np)\n",
    "y_pred = model.predict(X_test_np)\n",
    "print(\"Accuracy:\", accuracy_score(y_test_np, y_pred))\n"
   ]
  },
  {
   "cell_type": "code",
   "execution_count": null,
   "id": "815a4778-4504-4c32-b071-6907618620ca",
   "metadata": {},
   "outputs": [],
   "source": []
  },
  {
   "cell_type": "code",
   "execution_count": null,
   "id": "642d3bf6-e76a-4a74-8df5-1312e708baad",
   "metadata": {},
   "outputs": [],
   "source": []
  },
  {
   "cell_type": "code",
   "execution_count": null,
   "id": "f138b1bb-aea9-41c6-bffe-cb18a1801d7b",
   "metadata": {},
   "outputs": [],
   "source": []
  }
 ],
 "metadata": {
  "kernelspec": {
   "display_name": "Python 3 (ipykernel)",
   "language": "python",
   "name": "python3"
  },
  "language_info": {
   "codemirror_mode": {
    "name": "ipython",
    "version": 3
   },
   "file_extension": ".py",
   "mimetype": "text/x-python",
   "name": "python",
   "nbconvert_exporter": "python",
   "pygments_lexer": "ipython3",
   "version": "3.9.13"
  }
 },
 "nbformat": 4,
 "nbformat_minor": 5
}
